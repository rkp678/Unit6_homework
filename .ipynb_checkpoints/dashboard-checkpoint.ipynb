{
 "cells": [
  {
   "cell_type": "markdown",
   "metadata": {},
   "source": [
    "# San Francisco Rental Prices Dashboard\n",
    "\n",
    "In this notebook, you will compile the visualizations from the previous analysis into functions that can be used for a Panel dashboard."
   ]
  },
  {
   "cell_type": "code",
   "execution_count": 13,
   "metadata": {},
   "outputs": [],
   "source": [
    "# imports\n",
    "import panel as pn\n",
    "pn.extension('plotly')\n",
    "import plotly.express as px\n",
    "import pandas as pd\n",
    "import hvplot.pandas\n",
    "import matplotlib.pyplot as plt\n",
    "import os\n",
    "from pathlib import Path\n",
    "from dotenv import load_dotenv"
   ]
  },
  {
   "cell_type": "code",
   "execution_count": 14,
   "metadata": {},
   "outputs": [],
   "source": [
    "# Read the Mapbox API key\n",
    "load_dotenv()\n",
    "map_box_api = os.getenv(\"mapbox\")\n",
    "px.set_mapbox_access_token(map_box_api)"
   ]
  },
  {
   "cell_type": "markdown",
   "metadata": {},
   "source": [
    "# Import Data"
   ]
  },
  {
   "cell_type": "code",
   "execution_count": 30,
   "metadata": {},
   "outputs": [
    {
     "data": {
      "text/html": [
       "<div>\n",
       "<style scoped>\n",
       "    .dataframe tbody tr th:only-of-type {\n",
       "        vertical-align: middle;\n",
       "    }\n",
       "\n",
       "    .dataframe tbody tr th {\n",
       "        vertical-align: top;\n",
       "    }\n",
       "\n",
       "    .dataframe thead th {\n",
       "        text-align: right;\n",
       "    }\n",
       "</style>\n",
       "<table border=\"1\" class=\"dataframe\">\n",
       "  <thead>\n",
       "    <tr style=\"text-align: right;\">\n",
       "      <th></th>\n",
       "      <th>sale_price_sqr_foot</th>\n",
       "      <th>housing_units</th>\n",
       "      <th>gross_rent</th>\n",
       "    </tr>\n",
       "    <tr>\n",
       "      <th>year</th>\n",
       "      <th></th>\n",
       "      <th></th>\n",
       "      <th></th>\n",
       "    </tr>\n",
       "  </thead>\n",
       "  <tbody>\n",
       "    <tr>\n",
       "      <th>2010</th>\n",
       "      <td>369.344353</td>\n",
       "      <td>372560</td>\n",
       "      <td>1239</td>\n",
       "    </tr>\n",
       "    <tr>\n",
       "      <th>2011</th>\n",
       "      <td>341.903429</td>\n",
       "      <td>374507</td>\n",
       "      <td>1530</td>\n",
       "    </tr>\n",
       "    <tr>\n",
       "      <th>2012</th>\n",
       "      <td>399.389968</td>\n",
       "      <td>376454</td>\n",
       "      <td>2324</td>\n",
       "    </tr>\n",
       "    <tr>\n",
       "      <th>2013</th>\n",
       "      <td>483.600304</td>\n",
       "      <td>378401</td>\n",
       "      <td>2971</td>\n",
       "    </tr>\n",
       "    <tr>\n",
       "      <th>2014</th>\n",
       "      <td>556.277273</td>\n",
       "      <td>380348</td>\n",
       "      <td>3528</td>\n",
       "    </tr>\n",
       "    <tr>\n",
       "      <th>2015</th>\n",
       "      <td>632.540352</td>\n",
       "      <td>382295</td>\n",
       "      <td>3739</td>\n",
       "    </tr>\n",
       "    <tr>\n",
       "      <th>2016</th>\n",
       "      <td>697.643709</td>\n",
       "      <td>384242</td>\n",
       "      <td>4390</td>\n",
       "    </tr>\n",
       "  </tbody>\n",
       "</table>\n",
       "</div>"
      ],
      "text/plain": [
       "      sale_price_sqr_foot  housing_units  gross_rent\n",
       "year                                                \n",
       "2010           369.344353         372560        1239\n",
       "2011           341.903429         374507        1530\n",
       "2012           399.389968         376454        2324\n",
       "2013           483.600304         378401        2971\n",
       "2014           556.277273         380348        3528\n",
       "2015           632.540352         382295        3739\n",
       "2016           697.643709         384242        4390"
      ]
     },
     "execution_count": 30,
     "metadata": {},
     "output_type": "execute_result"
    }
   ],
   "source": [
    "# Import the necessary CSVs to Pandas DataFrames\n",
    "file_path = Path(\"sfo_neighborhoods_census_data.csv\")\n",
    "sfo_data = pd.read_csv(file_path, index_col=\"year\")\n",
    "sfo_data.head()\n",
    "columns = [\"Neighborhood\", \"sale_price_sqr_foot\", \"housing_units\", \"gross_rent\"]\n",
    "sfo_data.columns = columns\n",
    "sfo_data\n",
    "\n",
    "sfo_mean = sfo_data.groupby(['year']).mean()\n",
    "sfo_mean"
   ]
  },
  {
   "cell_type": "code",
   "execution_count": 17,
   "metadata": {},
   "outputs": [
    {
     "data": {
      "text/html": [
       "<div>\n",
       "<style scoped>\n",
       "    .dataframe tbody tr th:only-of-type {\n",
       "        vertical-align: middle;\n",
       "    }\n",
       "\n",
       "    .dataframe tbody tr th {\n",
       "        vertical-align: top;\n",
       "    }\n",
       "\n",
       "    .dataframe thead th {\n",
       "        text-align: right;\n",
       "    }\n",
       "</style>\n",
       "<table border=\"1\" class=\"dataframe\">\n",
       "  <thead>\n",
       "    <tr style=\"text-align: right;\">\n",
       "      <th></th>\n",
       "      <th>Lat</th>\n",
       "      <th>Lon</th>\n",
       "    </tr>\n",
       "    <tr>\n",
       "      <th>Neighborhood</th>\n",
       "      <th></th>\n",
       "      <th></th>\n",
       "    </tr>\n",
       "  </thead>\n",
       "  <tbody>\n",
       "    <tr>\n",
       "      <th>Alamo Square</th>\n",
       "      <td>37.791012</td>\n",
       "      <td>-122.402100</td>\n",
       "    </tr>\n",
       "    <tr>\n",
       "      <th>Anza Vista</th>\n",
       "      <td>37.779598</td>\n",
       "      <td>-122.443451</td>\n",
       "    </tr>\n",
       "    <tr>\n",
       "      <th>Bayview</th>\n",
       "      <td>37.734670</td>\n",
       "      <td>-122.401060</td>\n",
       "    </tr>\n",
       "    <tr>\n",
       "      <th>Bayview Heights</th>\n",
       "      <td>37.728740</td>\n",
       "      <td>-122.410980</td>\n",
       "    </tr>\n",
       "    <tr>\n",
       "      <th>Bernal Heights</th>\n",
       "      <td>37.728630</td>\n",
       "      <td>-122.443050</td>\n",
       "    </tr>\n",
       "  </tbody>\n",
       "</table>\n",
       "</div>"
      ],
      "text/plain": [
       "                       Lat         Lon\n",
       "Neighborhood                          \n",
       "Alamo Square     37.791012 -122.402100\n",
       "Anza Vista       37.779598 -122.443451\n",
       "Bayview          37.734670 -122.401060\n",
       "Bayview Heights  37.728740 -122.410980\n",
       "Bernal Heights   37.728630 -122.443050"
      ]
     },
     "execution_count": 17,
     "metadata": {},
     "output_type": "execute_result"
    }
   ],
   "source": [
    "file_path2 = Path(\"neighborhoods_coordinates.csv\")\n",
    "neighborhood_coordinates = pd.read_csv(file_path2, index_col=\"Neighborhood\")\n",
    "neighborhood_coordinates.head()"
   ]
  },
  {
   "cell_type": "code",
   "execution_count": 46,
   "metadata": {},
   "outputs": [
    {
     "data": {
      "text/html": [
       "<div>\n",
       "<style scoped>\n",
       "    .dataframe tbody tr th:only-of-type {\n",
       "        vertical-align: middle;\n",
       "    }\n",
       "\n",
       "    .dataframe tbody tr th {\n",
       "        vertical-align: top;\n",
       "    }\n",
       "\n",
       "    .dataframe thead th {\n",
       "        text-align: right;\n",
       "    }\n",
       "</style>\n",
       "<table border=\"1\" class=\"dataframe\">\n",
       "  <thead>\n",
       "    <tr style=\"text-align: right;\">\n",
       "      <th></th>\n",
       "      <th>housing_units</th>\n",
       "    </tr>\n",
       "  </thead>\n",
       "  <tbody>\n",
       "    <tr>\n",
       "      <th>0</th>\n",
       "      <td>372560</td>\n",
       "    </tr>\n",
       "    <tr>\n",
       "      <th>1</th>\n",
       "      <td>374507</td>\n",
       "    </tr>\n",
       "    <tr>\n",
       "      <th>2</th>\n",
       "      <td>376454</td>\n",
       "    </tr>\n",
       "    <tr>\n",
       "      <th>3</th>\n",
       "      <td>378401</td>\n",
       "    </tr>\n",
       "    <tr>\n",
       "      <th>4</th>\n",
       "      <td>380348</td>\n",
       "    </tr>\n",
       "    <tr>\n",
       "      <th>5</th>\n",
       "      <td>382295</td>\n",
       "    </tr>\n",
       "    <tr>\n",
       "      <th>6</th>\n",
       "      <td>384242</td>\n",
       "    </tr>\n",
       "  </tbody>\n",
       "</table>\n",
       "</div>"
      ],
      "text/plain": [
       "   housing_units\n",
       "0         372560\n",
       "1         374507\n",
       "2         376454\n",
       "3         378401\n",
       "4         380348\n",
       "5         382295\n",
       "6         384242"
      ]
     },
     "execution_count": 46,
     "metadata": {},
     "output_type": "execute_result"
    }
   ],
   "source": [
    "file_path1 = Path(\"mean_units.csv\")\n",
    "mean_units = pd.read_csv(file_path1)\n",
    "mean_units"
   ]
  },
  {
   "cell_type": "code",
   "execution_count": 68,
   "metadata": {},
   "outputs": [
    {
     "data": {
      "text/html": [
       "<div>\n",
       "<style scoped>\n",
       "    .dataframe tbody tr th:only-of-type {\n",
       "        vertical-align: middle;\n",
       "    }\n",
       "\n",
       "    .dataframe tbody tr th {\n",
       "        vertical-align: top;\n",
       "    }\n",
       "\n",
       "    .dataframe thead th {\n",
       "        text-align: right;\n",
       "    }\n",
       "</style>\n",
       "<table border=\"1\" class=\"dataframe\">\n",
       "  <thead>\n",
       "    <tr style=\"text-align: right;\">\n",
       "      <th></th>\n",
       "      <th>sale_price_sqr_foot</th>\n",
       "    </tr>\n",
       "    <tr>\n",
       "      <th>Neighborhood</th>\n",
       "      <th></th>\n",
       "    </tr>\n",
       "  </thead>\n",
       "  <tbody>\n",
       "    <tr>\n",
       "      <th>South Beach</th>\n",
       "      <td>650.124479</td>\n",
       "    </tr>\n",
       "    <tr>\n",
       "      <th>Potrero Hill</th>\n",
       "      <td>662.013613</td>\n",
       "    </tr>\n",
       "    <tr>\n",
       "      <th>Cow Hollow</th>\n",
       "      <td>665.964042</td>\n",
       "    </tr>\n",
       "    <tr>\n",
       "      <th>Presidio Heights</th>\n",
       "      <td>675.350212</td>\n",
       "    </tr>\n",
       "    <tr>\n",
       "      <th>Telegraph Hill</th>\n",
       "      <td>676.506578</td>\n",
       "    </tr>\n",
       "    <tr>\n",
       "      <th>Westwood Park</th>\n",
       "      <td>687.087575</td>\n",
       "    </tr>\n",
       "    <tr>\n",
       "      <th>Pacific Heights</th>\n",
       "      <td>689.555817</td>\n",
       "    </tr>\n",
       "    <tr>\n",
       "      <th>Miraloma Park</th>\n",
       "      <td>779.810842</td>\n",
       "    </tr>\n",
       "    <tr>\n",
       "      <th>Merced Heights</th>\n",
       "      <td>788.844818</td>\n",
       "    </tr>\n",
       "    <tr>\n",
       "      <th>Union Square District</th>\n",
       "      <td>903.993258</td>\n",
       "    </tr>\n",
       "  </tbody>\n",
       "</table>\n",
       "</div>"
      ],
      "text/plain": [
       "                       sale_price_sqr_foot\n",
       "Neighborhood                              \n",
       "South Beach                     650.124479\n",
       "Potrero Hill                    662.013613\n",
       "Cow Hollow                      665.964042\n",
       "Presidio Heights                675.350212\n",
       "Telegraph Hill                  676.506578\n",
       "Westwood Park                   687.087575\n",
       "Pacific Heights                 689.555817\n",
       "Miraloma Park                   779.810842\n",
       "Merced Heights                  788.844818\n",
       "Union Square District           903.993258"
      ]
     },
     "execution_count": 68,
     "metadata": {},
     "output_type": "execute_result"
    }
   ],
   "source": [
    "# Added this code so I can use below in plots\n",
    "sfo_means = sfo_data.groupby(['year', 'Neighborhood']).mean()\n",
    "sfo_means\n",
    "\n",
    "avg_grossrent = sfo_mean[['gross_rent']]\n",
    "avg_grossrent\n",
    "\n",
    "avg_sqrfoot = sfo_mean[['sale_price_sqr_foot']]\n",
    "avg_sqrfoot.round(2)\n",
    "\n",
    "sfo_exp = sfo_data.groupby(['Neighborhood']).mean()\n",
    "sfo_exp\n",
    "\n",
    "sfo_exp_sqft = sfo_exp[['sale_price_sqr_foot']]\n",
    "sfo_exp_sqft\n",
    "\n",
    "sfo_exp_sqft = sfo_exp_sqft.sort_values(by=['sale_price_sqr_foot'])\n",
    "sfo_10exp = sfo_exp_sqft.tail(10)\n",
    "sfo_10exp"
   ]
  },
  {
   "cell_type": "markdown",
   "metadata": {},
   "source": [
    "- - -"
   ]
  },
  {
   "cell_type": "markdown",
   "metadata": {},
   "source": [
    "## Panel Visualizations\n",
    "\n",
    "In this section, you will copy the code for each plot type from your analysis notebook and place it into separate functions that Panel can use to create panes for the dashboard. \n",
    "\n",
    "These functions will convert the plot object to a Panel pane.\n",
    "\n",
    "Be sure to include any DataFrame transformation/manipulation code required along with the plotting code.\n",
    "\n",
    "Return a Panel pane object from each function that can be used to build the dashboard.\n",
    "\n",
    "Note: Remove any `.show()` lines from the code. We want to return the plots instead of showing them. The Panel dashboard will then display the plots."
   ]
  },
  {
   "cell_type": "code",
   "execution_count": 69,
   "metadata": {},
   "outputs": [
    {
     "data": {
      "image/png": "[encoded data removed]",
      "text/plain": [
       "<Figure size 432x288 with 1 Axes>"
      ]
     },
     "metadata": {
      "needs_background": "light"
     },
     "output_type": "display_data"
    },
    {
     "data": {
      "image/png": "[encoded data removed]",
      "text/plain": [
       "<Figure size 432x288 with 1 Axes>"
      ]
     },
     "metadata": {
      "needs_background": "light"
     },
     "output_type": "display_data"
    },
    {
     "data": {
      "image/png": "[encoded data removed]",
      "text/plain": [
       "<Figure size 432x288 with 1 Axes>"
      ]
     },
     "metadata": {
      "needs_background": "light"
     },
     "output_type": "display_data"
    }
   ],
   "source": [
    "# Define Panel Visualization Functions\n",
    "#def housing_units_per_year():\n",
    "#    \"\"\"Housing Units Per Year.\"\"\"\n",
    "mean_units_plot = mean_units.plot.bar(title=\"Housing Units per Year\", ylabel=\"housing units\", ylim=(350000,400000))\n",
    "    \n",
    "#def average_gross_rent():\n",
    "#    \"\"\"Average Gross Rent in San Francisco Per Year.\"\"\"\n",
    "avg_grossrent_plot = avg_grossrent.plot(ylim=(1200,4500), title=\"Average Monthly Rent\", ylabel='Avg rent')\n",
    "\n",
    "#def average_sales_price():\n",
    "#    \"\"\"Average Sales Price Per Year.\"\"\"\n",
    "avg_sqrfoot_plot = avg_sqrfoot.plot(ylim=(300,700), title=\"Average Sale Price per Square Foot\", ylabel='Avg price/sq ft')\n",
    "\n",
    "#def average_price_by_neighborhood():\n",
    "#    \"\"\"Average Prices by Neighborhood.\"\"\"\n",
    "sfo_means_plot = sfo_means.hvplot.line(x=\"year\", y=\"sale_price_sqr_foot\", xlabel=\"Year\", ylabel=\"Average price/sq ft\", groupby=\"Neighborhood\", title=\"Average Price/Sq Foot By Neighborhood\")\n",
    "\n",
    "#def top_most_expensive_neighborhoods():\n",
    "#    \"\"\"Top 10 Most Expensive Neighborhoods.\"\"\"\n",
    "sfo_10exp_plot = sfo_10exp.hvplot.bar(ylim=(600,1000), title=\"Top 10 Most Expensive Neighborhoods\", rot=45)\n",
    "\n",
    "#def most_expensive_neighborhoods_rent_sales():\n",
    "#    \"\"\"Comparison of Rent and Sales Prices of Most Expensive Neighborhoods.\"\"\"   \n",
    "sfo_rentprice_plot = sfo_means.hvplot(ylabel=\"dollars\", xlabel=\"year\", title=\"Rent vs Price\", groupby=\"Neighborhood\")\n",
    " \n",
    "#def neighborhood_map():\n",
    "#    \"\"\"Neighborhood Map.\"\"\"  \n",
    "# def parallel_coordinates():\n",
    "#    \"\"\"Parallel Coordinates Plot.\"\"\"\n",
    "# def parallel_categories():\n",
    "#    \"\"\"Parallel Categories Plot.\"\"\"\n",
    "# def sunburst():\n",
    "#   \"\"\"Sunburst Plot.\"\"\"\n",
    "# OPTIONAL CHALLENGES - DID NOT COMPLETE"
   ]
  },
  {
   "cell_type": "markdown",
   "metadata": {},
   "source": [
    "## Panel Dashboard\n",
    "\n",
    "In this section, you will combine all of the plots into a single dashboard view using Panel. Be creative with your dashboard design!"
   ]
  },
  {
   "cell_type": "code",
   "execution_count": 75,
   "metadata": {},
   "outputs": [
    {
     "data": {},
     "metadata": {},
     "output_type": "display_data"
    },
    {
     "data": {},
     "metadata": {},
     "output_type": "display_data"
    },
    {
     "data": {
      "application/vnd.holoviews_exec.v0+json": "",
      "text/html": [
       "<div id='3822'>\n",
       "\n",
       "\n",
       "\n",
       "\n",
       "\n",
       "  <div class=\"bk-root\" id=\"252219f4-75c5-4816-8ded-8a80b395a699\" data-root-id=\"3822\"></div>\n",
       "</div>\n",
       "<script type=\"application/javascript\">(function(root) {\n",
       "  function embed_document(root) {\n",
       "    var docs_json = {\"750d8532-3dc7-4b11-855e-215d8d817d82\":{\"defs\":[{\"extends\":null,\"module\":null,\"name\":\"ReactiveHTML1\",\"overrides\":[],\"properties\":[]},{\"extends\":null,\"module\":null,\"name\":\"FlexBox1\",\"overrides\":[],\"properties\":[{\"default\":\"flex-start\",\"kind\":null,\"name\":\"align_content\"},{\"default\":\"flex-start\",\"kind\":null,\"name\":\"align_items\"},{\"default\":\"row\",\"kind\":null,\"name\":\"flex_direction\"},{\"default\":\"wrap\",\"kind\":null,\"name\":\"flex_wrap\"},{\"default\":\"flex-start\",\"kind\":null,\"name\":\"justify_content\"}]},{\"extends\":null,\"module\":null,\"name\":\"TemplateActions1\",\"overrides\":[],\"properties\":[{\"default\":0,\"kind\":null,\"name\":\"open_modal\"},{\"default\":0,\"kind\":null,\"name\":\"close_modal\"}]},{\"extends\":null,\"module\":null,\"name\":\"MaterialTemplateActions1\",\"overrides\":[],\"properties\":[{\"default\":0,\"kind\":null,\"name\":\"open_modal\"},{\"default\":0,\"kind\":null,\"name\":\"close_modal\"}]}],\"roots\":{\"references\":[{\"attributes\":{\"axis_label\":\"dollars\",\"formatter\":{\"id\":\"3869\"},\"major_label_policy\":{\"id\":\"3871\"},\"ticker\":{\"id\":\"3850\"}},\"id\":\"3849\",\"type\":\"LinearAxis\"},{\"attributes\":{\"line_color\":\"#30a2da\",\"line_width\":2,\"x\":{\"field\":\"year\"},\"y\":{\"field\":\"value\"}},\"id\":\"3875\",\"type\":\"Line\"},{\"attributes\":{},\"id\":\"3850\",\"type\":\"BasicTicker\"},{\"attributes\":{\"axis\":{\"id\":\"3849\"},\"dimension\":1,\"grid_line_color\":null,\"ticker\":null},\"id\":\"3852\",\"type\":\"Grid\"},{\"attributes\":{\"children\":[{\"id\":\"3827\"},{\"id\":\"3828\"}],\"margin\":[0,0,0,0],\"name\":\"Column04007\"},\"id\":\"3826\",\"type\":\"Column\"},{\"attributes\":{\"children\":[{\"id\":\"4219\"}],\"css_classes\":[\"panel-widget-box\"],\"margin\":[5,5,5,5],\"name\":\"WidgetBox06079\"},\"id\":\"4218\",\"type\":\"Column\"},{\"attributes\":{\"source\":{\"id\":\"3872\"}},\"id\":\"3879\",\"type\":\"CDSView\"},{\"attributes\":{\"data_source\":{\"id\":\"3872\"},\"glyph\":{\"id\":\"3875\"},\"hover_glyph\":null,\"muted_glyph\":{\"id\":\"3877\"},\"nonselection_glyph\":{\"id\":\"3876\"},\"selection_glyph\":{\"id\":\"3892\"},\"view\":{\"id\":\"3879\"}},\"id\":\"3878\",\"type\":\"GlyphRenderer\"},{\"attributes\":{\"line_alpha\":0.1,\"line_color\":\"#30a2da\",\"line_width\":2,\"x\":{\"field\":\"year\"},\"y\":{\"field\":\"value\"}},\"id\":\"3876\",\"type\":\"Line\"},{\"attributes\":{\"active_multi\":null,\"tools\":[{\"id\":\"4077\"},{\"id\":\"4094\"},{\"id\":\"4095\"},{\"id\":\"4096\"},{\"id\":\"4097\"},{\"id\":\"4098\"}]},\"id\":\"4100\",\"type\":\"Toolbar\"},{\"attributes\":{\"children\":[{\"id\":\"4218\"},{\"id\":\"4220\"}],\"margin\":[0,0,0,0],\"name\":\"Column06085\"},\"id\":\"4217\",\"type\":\"Column\"},{\"attributes\":{\"end\":1000,\"reset_end\":1000,\"reset_start\":600,\"start\":141.1976609302527,\"tags\":[[[\"sale_price_sqr_foot\",\"sale_price_sqr_foot\",null]]]},\"id\":\"4076\",\"type\":\"Range1d\"},{\"attributes\":{\"active_multi\":null,\"tools\":[{\"id\":\"3833\"},{\"id\":\"3853\"},{\"id\":\"3854\"},{\"id\":\"3855\"},{\"id\":\"3856\"},{\"id\":\"3857\"}]},\"id\":\"3859\",\"type\":\"Toolbar\"},{\"attributes\":{\"line_color\":\"#fc4f30\",\"line_width\":2,\"x\":{\"field\":\"year\"},\"y\":{\"field\":\"value\"}},\"id\":\"3896\",\"type\":\"Line\"},{\"attributes\":{\"bottom_units\":\"screen\",\"fill_alpha\":0.5,\"fill_color\":\"lightgrey\",\"left_units\":\"screen\",\"level\":\"overlay\",\"line_alpha\":1.0,\"line_color\":\"black\",\"line_dash\":[4,4],\"line_width\":2,\"right_units\":\"screen\",\"syncable\":false,\"top_units\":\"screen\"},\"id\":\"4099\",\"type\":\"BoxAnnotation\"},{\"attributes\":{},\"id\":\"3853\",\"type\":\"SaveTool\"},{\"attributes\":{\"bottom\":{\"value\":0},\"fill_alpha\":{\"value\":1.0},\"fill_color\":{\"value\":\"#30a2da\"},\"hatch_alpha\":{\"value\":1.0},\"hatch_color\":{\"value\":\"black\"},\"hatch_scale\":{\"value\":12.0},\"hatch_weight\":{\"value\":1.0},\"line_alpha\":{\"value\":1.0},\"line_cap\":{\"value\":\"butt\"},\"line_color\":{\"value\":\"black\"},\"line_dash\":{\"value\":[]},\"line_dash_offset\":{\"value\":0},\"line_join\":{\"value\":\"bevel\"},\"line_width\":{\"value\":1},\"top\":{\"field\":\"sale_price_sqr_foot\"},\"width\":{\"value\":0.8},\"x\":{\"field\":\"Neighborhood\"}},\"id\":\"4115\",\"type\":\"VBar\"},{\"attributes\":{},\"id\":\"3854\",\"type\":\"PanTool\"},{\"attributes\":{},\"id\":\"3857\",\"type\":\"ResetTool\"},{\"attributes\":{},\"id\":\"3855\",\"type\":\"WheelZoomTool\"},{\"attributes\":{\"data\":{\"sale_price_sqr_foot\":{\"__ndarray__\":\"DUc7WO0yckCafszcbwhxQIKRs5ot42ZAKDog0LQ8eEAVMinKGEd+QI4V5FDt0IJAVCHcmLVPdUA=\",\"dtype\":\"float64\",\"order\":\"little\",\"shape\":[7]},\"year\":[2010,2011,2012,2013,2014,2015,2016]},\"selected\":{\"id\":\"4177\"},\"selection_policy\":{\"id\":\"4204\"}},\"id\":\"4176\",\"type\":\"ColumnDataSource\"},{\"attributes\":{\"axis\":{\"id\":\"4155\"},\"grid_line_color\":null,\"ticker\":null},\"id\":\"4158\",\"type\":\"Grid\"},{\"attributes\":{\"overlay\":{\"id\":\"3858\"}},\"id\":\"3856\",\"type\":\"BoxZoomTool\"},{\"attributes\":{\"line_color\":\"#30a2da\",\"line_width\":2,\"x\":{\"field\":\"year\"},\"y\":{\"field\":\"sale_price_sqr_foot\"}},\"id\":\"4179\",\"type\":\"Line\"},{\"attributes\":{},\"id\":\"4091\",\"type\":\"BasicTicker\"},{\"attributes\":{\"data_source\":{\"id\":\"4107\"},\"glyph\":{\"id\":\"4110\"},\"hover_glyph\":null,\"muted_glyph\":{\"id\":\"4112\"},\"nonselection_glyph\":{\"id\":\"4111\"},\"selection_glyph\":{\"id\":\"4115\"},\"view\":{\"id\":\"4114\"}},\"id\":\"4113\",\"type\":\"GlyphRenderer\"},{\"attributes\":{},\"id\":\"4121\",\"type\":\"AllLabels\"},{\"attributes\":{\"axis_label\":\"Neighborhood\",\"formatter\":{\"id\":\"4116\"},\"major_label_orientation\":0.7853981633974483,\"major_label_policy\":{\"id\":\"4118\"},\"ticker\":{\"id\":\"4088\"}},\"id\":\"4087\",\"type\":\"CategoricalAxis\"},{\"attributes\":{},\"id\":\"4156\",\"type\":\"BasicTicker\"},{\"attributes\":{\"fill_color\":{\"value\":\"#30a2da\"},\"top\":{\"field\":\"sale_price_sqr_foot\"},\"width\":{\"value\":0.8},\"x\":{\"field\":\"Neighborhood\"}},\"id\":\"4110\",\"type\":\"VBar\"},{\"attributes\":{},\"id\":\"4118\",\"type\":\"AllLabels\"},{\"attributes\":{\"source\":{\"id\":\"4107\"}},\"id\":\"4114\",\"type\":\"CDSView\"},{\"attributes\":{\"line_alpha\":0.2,\"line_color\":\"#30a2da\",\"line_width\":2,\"x\":{\"field\":\"year\"},\"y\":{\"field\":\"value\"}},\"id\":\"3877\",\"type\":\"Line\"},{\"attributes\":{\"callback\":null,\"renderers\":[{\"id\":\"4182\"}],\"tags\":[\"hv_created\"],\"tooltips\":[[\"year\",\"@{year}\"],[\"sale_price_sqr_foot\",\"@{sale_price_sqr_foot}\"]]},\"id\":\"4145\",\"type\":\"HoverTool\"},{\"attributes\":{\"line_color\":\"#30a2da\",\"line_width\":2,\"x\":{\"field\":\"year\"},\"y\":{\"field\":\"value\"}},\"id\":\"3892\",\"type\":\"Line\"},{\"attributes\":{},\"id\":\"4185\",\"type\":\"BasicTickFormatter\"},{\"attributes\":{\"end\":2016.0,\"reset_end\":2016.0,\"reset_start\":2010.0,\"start\":2010.0,\"tags\":[[[\"year\",\"year\",null]]]},\"id\":\"3831\",\"type\":\"Range1d\"},{\"attributes\":{},\"id\":\"4119\",\"type\":\"BasicTickFormatter\"},{\"attributes\":{\"axis\":{\"id\":\"4087\"},\"grid_line_color\":null,\"ticker\":null},\"id\":\"4089\",\"type\":\"Grid\"},{\"attributes\":{\"margin\":[5,5,5,5],\"name\":\"Str04005\",\"text\":\"&lt;pre&gt;AxesSubplot(0.125,0.125;0.775x0.755)&lt;/pre&gt;\"},\"id\":\"3828\",\"type\":\"panel.models.markup.HTML\"},{\"attributes\":{\"text\":\"Top 10 Most Expensive Neighborhoods\",\"text_color\":\"black\",\"text_font_size\":\"12pt\"},\"id\":\"4079\",\"type\":\"Title\"},{\"attributes\":{},\"id\":\"3894\",\"type\":\"Selection\"},{\"attributes\":{},\"id\":\"4083\",\"type\":\"CategoricalScale\"},{\"attributes\":{\"click_policy\":\"mute\",\"items\":[{\"id\":\"3891\"},{\"id\":\"3913\"},{\"id\":\"3937\"}],\"location\":[0,0],\"title\":\"Variable\"},\"id\":\"3890\",\"type\":\"Legend\"},{\"attributes\":{\"label\":{\"value\":\"sale_price_sqr_foot\"},\"renderers\":[{\"id\":\"3878\"}]},\"id\":\"3891\",\"type\":\"LegendItem\"},{\"attributes\":{},\"id\":\"4085\",\"type\":\"LinearScale\"},{\"attributes\":{},\"id\":\"3868\",\"type\":\"AllLabels\"},{\"attributes\":{},\"id\":\"4088\",\"type\":\"CategoricalTicker\"},{\"attributes\":{\"text\":\"Average Price/Sq Foot By Neighborhood\",\"text_color\":\"black\",\"text_font_size\":\"12pt\"},\"id\":\"4147\",\"type\":\"Title\"},{\"attributes\":{\"bottom_units\":\"screen\",\"fill_alpha\":0.5,\"fill_color\":\"lightgrey\",\"left_units\":\"screen\",\"level\":\"overlay\",\"line_alpha\":1.0,\"line_color\":\"black\",\"line_dash\":[4,4],\"line_width\":2,\"right_units\":\"screen\",\"syncable\":false,\"top_units\":\"screen\"},\"id\":\"3858\",\"type\":\"BoxAnnotation\"},{\"attributes\":{},\"id\":\"4151\",\"type\":\"LinearScale\"},{\"attributes\":{\"axis_label\":\"sale_price_sqr_foot\",\"formatter\":{\"id\":\"4119\"},\"major_label_policy\":{\"id\":\"4121\"},\"ticker\":{\"id\":\"4091\"}},\"id\":\"4090\",\"type\":\"LinearAxis\"},{\"attributes\":{\"margin\":[5,5,5,5],\"name\":\"Str04000\",\"text\":\"&lt;pre&gt;AxesSubplot(0.125,0.125;0.775x0.755)&lt;/pre&gt;\"},\"id\":\"3825\",\"type\":\"panel.models.markup.HTML\"},{\"attributes\":{\"axis\":{\"id\":\"4090\"},\"dimension\":1,\"grid_line_color\":null,\"ticker\":null},\"id\":\"4093\",\"type\":\"Grid\"},{\"attributes\":{},\"id\":\"4153\",\"type\":\"LinearScale\"},{\"attributes\":{\"callback\":null,\"renderers\":[{\"id\":\"3878\"},{\"id\":\"3899\"},{\"id\":\"3921\"}],\"tags\":[\"hv_created\"],\"tooltips\":[[\"Variable\",\"@{Variable}\"],[\"year\",\"@{year}\"],[\"value\",\"@{value}\"]]},\"id\":\"3833\",\"type\":\"HoverTool\"},{\"attributes\":{\"axis_label\":\"Average price/sq ft\",\"formatter\":{\"id\":\"4188\"},\"major_label_policy\":{\"id\":\"4190\"},\"ticker\":{\"id\":\"4160\"}},\"id\":\"4159\",\"type\":\"LinearAxis\"},{\"attributes\":{\"axis_label\":\"Year\",\"formatter\":{\"id\":\"4185\"},\"major_label_policy\":{\"id\":\"4187\"},\"ticker\":{\"id\":\"4156\"}},\"id\":\"4155\",\"type\":\"LinearAxis\"},{\"attributes\":{\"children\":[{\"id\":\"3823\"},{\"id\":\"3826\"},{\"id\":\"3829\"},{\"id\":\"3830\"},{\"id\":\"4078\"},{\"id\":\"4142\"}],\"margin\":[0,0,0,0],\"name\":\"Row06060\"},\"id\":\"3822\",\"type\":\"Row\"},{\"attributes\":{\"fill_alpha\":{\"value\":0.2},\"fill_color\":{\"value\":\"#30a2da\"},\"line_alpha\":{\"value\":0.2},\"top\":{\"field\":\"sale_price_sqr_foot\"},\"width\":{\"value\":0.8},\"x\":{\"field\":\"Neighborhood\"}},\"id\":\"4112\",\"type\":\"VBar\"},{\"attributes\":{},\"id\":\"4160\",\"type\":\"BasicTicker\"},{\"attributes\":{\"axis\":{\"id\":\"4159\"},\"dimension\":1,\"grid_line_color\":null,\"ticker\":null},\"id\":\"4162\",\"type\":\"Grid\"},{\"attributes\":{\"margin\":[20,20,20,20],\"min_width\":250,\"options\":[\"Alamo Square\",\"Anza Vista\",\"Bayview\",\"Buena Vista Park\",\"Central Richmond\",\"Central Sunset\",\"Corona Heights\",\"Cow Hollow\",\"Croker Amazon\",\"Diamond Heights\",\"Downtown \",\"Eureka Valley/Dolores Heights\",\"Excelsior\",\"Financial District North\",\"Financial District South\",\"Forest Knolls\",\"Glen Park\",\"Golden Gate Heights\",\"Haight Ashbury\",\"Hayes Valley\",\"Hunters Point\",\"Ingleside \",\"Inner Mission\",\"Inner Parkside\",\"Inner Richmond\",\"Inner Sunset\",\"Jordan Park/Laurel Heights\",\"Lake --The Presidio\",\"Lone Mountain\",\"Lower Pacific Heights\",\"Marina\",\"Miraloma Park\",\"Mission Bay\",\"Mission Dolores\",\"Mission Terrace\",\"Nob Hill\",\"Noe Valley\",\"Oceanview\",\"Outer Parkside\",\"Outer Richmond \",\"Outer Sunset\",\"Pacific Heights\",\"Park North\",\"Parkside\",\"Parnassus/Ashbury Heights\",\"Portola\",\"Potrero Hill\",\"Presidio Heights\",\"Russian Hill\",\"South Beach\",\"South of Market\",\"Sunnyside\",\"Telegraph Hill\",\"Twin Peaks\",\"Union Square District\",\"Van Ness/ Civic Center\",\"West Portal\",\"Western Addition\",\"Yerba Buena\",\"Bernal Heights \",\"Clarendon Heights\",\"Duboce Triangle\",\"Ingleside Heights\",\"North Beach\",\"North Waterfront\",\"Outer Mission\",\"Westwood Highlands\",\"Merced Heights\",\"Midtown Terrace\",\"Visitacion Valley\",\"Silver Terrace\",\"Westwood Park\",\"Bayview Heights\"],\"title\":\"Neighborhood\",\"value\":\"Alamo Square\",\"width\":250},\"id\":\"4073\",\"type\":\"Select\"},{\"attributes\":{\"fill_alpha\":{\"value\":0.1},\"fill_color\":{\"value\":\"#30a2da\"},\"line_alpha\":{\"value\":0.1},\"top\":{\"field\":\"sale_price_sqr_foot\"},\"width\":{\"value\":0.8},\"x\":{\"field\":\"Neighborhood\"}},\"id\":\"4111\",\"type\":\"VBar\"},{\"attributes\":{\"children\":[{\"id\":\"3824\"},{\"id\":\"3825\"}],\"margin\":[0,0,0,0],\"name\":\"Column04002\"},\"id\":\"3823\",\"type\":\"Column\"},{\"attributes\":{\"line_alpha\":0.2,\"line_color\":\"#30a2da\",\"line_width\":2,\"x\":{\"field\":\"year\"},\"y\":{\"field\":\"sale_price_sqr_foot\"}},\"id\":\"4181\",\"type\":\"Line\"},{\"attributes\":{},\"id\":\"3873\",\"type\":\"Selection\"},{\"attributes\":{\"line_alpha\":0.1,\"line_color\":\"#fc4f30\",\"line_width\":2,\"x\":{\"field\":\"year\"},\"y\":{\"field\":\"value\"}},\"id\":\"3897\",\"type\":\"Line\"},{\"attributes\":{},\"id\":\"4116\",\"type\":\"CategoricalTickFormatter\"},{\"attributes\":{},\"id\":\"4094\",\"type\":\"SaveTool\"},{\"attributes\":{},\"id\":\"4095\",\"type\":\"PanTool\"},{\"attributes\":{\"line_alpha\":0.1,\"line_color\":\"#30a2da\",\"line_width\":2,\"x\":{\"field\":\"year\"},\"y\":{\"field\":\"sale_price_sqr_foot\"}},\"id\":\"4180\",\"type\":\"Line\"},{\"attributes\":{},\"id\":\"3887\",\"type\":\"UnionRenderers\"},{\"attributes\":{\"source\":{\"id\":\"4176\"}},\"id\":\"4183\",\"type\":\"CDSView\"},{\"attributes\":{\"overlay\":{\"id\":\"4099\"}},\"id\":\"4097\",\"type\":\"BoxZoomTool\"},{\"attributes\":{\"data_source\":{\"id\":\"4176\"},\"glyph\":{\"id\":\"4179\"},\"hover_glyph\":null,\"muted_glyph\":{\"id\":\"4181\"},\"nonselection_glyph\":{\"id\":\"4180\"},\"selection_glyph\":{\"id\":\"4184\"},\"view\":{\"id\":\"4183\"}},\"id\":\"4182\",\"type\":\"GlyphRenderer\"},{\"attributes\":{},\"id\":\"4129\",\"type\":\"UnionRenderers\"},{\"attributes\":{},\"id\":\"4098\",\"type\":\"ResetTool\"},{\"attributes\":{\"line_alpha\":0.2,\"line_color\":\"#fc4f30\",\"line_width\":2,\"x\":{\"field\":\"year\"},\"y\":{\"field\":\"value\"}},\"id\":\"3898\",\"type\":\"Line\"},{\"attributes\":{},\"id\":\"4163\",\"type\":\"SaveTool\"},{\"attributes\":{},\"id\":\"3916\",\"type\":\"Selection\"},{\"attributes\":{},\"id\":\"4164\",\"type\":\"PanTool\"},{\"attributes\":{},\"id\":\"4167\",\"type\":\"ResetTool\"},{\"attributes\":{},\"id\":\"4165\",\"type\":\"WheelZoomTool\"},{\"attributes\":{\"children\":[{\"id\":\"4073\"}],\"css_classes\":[\"panel-widget-box\"],\"margin\":[5,5,5,5],\"name\":\"WidgetBox06065\"},\"id\":\"4072\",\"type\":\"Column\"},{\"attributes\":{\"overlay\":{\"id\":\"4168\"}},\"id\":\"4166\",\"type\":\"BoxZoomTool\"},{\"attributes\":{\"data_source\":{\"id\":\"3915\"},\"glyph\":{\"id\":\"3918\"},\"hover_glyph\":null,\"muted_glyph\":{\"id\":\"3920\"},\"nonselection_glyph\":{\"id\":\"3919\"},\"selection_glyph\":{\"id\":\"3938\"},\"view\":{\"id\":\"3922\"}},\"id\":\"3921\",\"type\":\"GlyphRenderer\"},{\"attributes\":{\"client_comm_id\":\"5416828945f34d088188fa8a145c577c\",\"comm_id\":\"c06af21b34f64d63bbe0a40207e295f8\",\"plot_id\":\"3822\"},\"id\":\"4323\",\"type\":\"panel.models.comm_manager.CommManager\"},{\"attributes\":{\"line_color\":\"#fc4f30\",\"line_width\":2,\"x\":{\"field\":\"year\"},\"y\":{\"field\":\"value\"}},\"id\":\"3914\",\"type\":\"Line\"},{\"attributes\":{\"line_color\":\"#30a2da\",\"line_width\":2,\"x\":{\"field\":\"year\"},\"y\":{\"field\":\"sale_price_sqr_foot\"}},\"id\":\"4184\",\"type\":\"Line\"},{\"attributes\":{},\"id\":\"4204\",\"type\":\"UnionRenderers\"},{\"attributes\":{\"data\":{\"Variable\":[\"housing_units\",\"housing_units\",\"housing_units\",\"housing_units\",\"housing_units\",\"housing_units\",\"housing_units\"],\"value\":[372560,374507,376454,378401,380348,382295,384242],\"year\":[2010,2011,2012,2013,2014,2015,2016]},\"selected\":{\"id\":\"3894\"},\"selection_policy\":{\"id\":\"3910\"}},\"id\":\"3893\",\"type\":\"ColumnDataSource\"},{\"attributes\":{\"label\":{\"value\":\"housing_units\"},\"renderers\":[{\"id\":\"3899\"}]},\"id\":\"3913\",\"type\":\"LegendItem\"},{\"attributes\":{\"children\":[{\"id\":\"4146\"},{\"id\":\"4217\"}],\"margin\":[0,0,0,0],\"name\":\"Row06078\"},\"id\":\"4142\",\"type\":\"Row\"},{\"attributes\":{\"source\":{\"id\":\"3915\"}},\"id\":\"3922\",\"type\":\"CDSView\"},{\"attributes\":{},\"id\":\"3910\",\"type\":\"UnionRenderers\"},{\"attributes\":{\"below\":[{\"id\":\"3845\"}],\"center\":[{\"id\":\"3848\"},{\"id\":\"3852\"}],\"height\":300,\"left\":[{\"id\":\"3849\"}],\"margin\":[5,5,5,5],\"min_border_bottom\":10,\"min_border_left\":10,\"min_border_right\":10,\"min_border_top\":10,\"renderers\":[{\"id\":\"3878\"},{\"id\":\"3899\"},{\"id\":\"3921\"}],\"right\":[{\"id\":\"3890\"}],\"sizing_mode\":\"fixed\",\"title\":{\"id\":\"3837\"},\"toolbar\":{\"id\":\"3859\"},\"width\":700,\"x_range\":{\"id\":\"3831\"},\"x_scale\":{\"id\":\"3841\"},\"y_range\":{\"id\":\"3832\"},\"y_scale\":{\"id\":\"3843\"}},\"id\":\"3836\",\"subtype\":\"Figure\",\"type\":\"Plot\"},{\"attributes\":{\"active_multi\":null,\"tools\":[{\"id\":\"4145\"},{\"id\":\"4163\"},{\"id\":\"4164\"},{\"id\":\"4165\"},{\"id\":\"4166\"},{\"id\":\"4167\"}]},\"id\":\"4169\",\"type\":\"Toolbar\"},{\"attributes\":{\"margin\":[20,20,20,20],\"min_width\":250,\"options\":[\"Alamo Square\",\"Anza Vista\",\"Bayview\",\"Buena Vista Park\",\"Central Richmond\",\"Central Sunset\",\"Corona Heights\",\"Cow Hollow\",\"Croker Amazon\",\"Diamond Heights\",\"Downtown \",\"Eureka Valley/Dolores Heights\",\"Excelsior\",\"Financial District North\",\"Financial District South\",\"Forest Knolls\",\"Glen Park\",\"Golden Gate Heights\",\"Haight Ashbury\",\"Hayes Valley\",\"Hunters Point\",\"Ingleside \",\"Inner Mission\",\"Inner Parkside\",\"Inner Richmond\",\"Inner Sunset\",\"Jordan Park/Laurel Heights\",\"Lake --The Presidio\",\"Lone Mountain\",\"Lower Pacific Heights\",\"Marina\",\"Miraloma Park\",\"Mission Bay\",\"Mission Dolores\",\"Mission Terrace\",\"Nob Hill\",\"Noe Valley\",\"Oceanview\",\"Outer Parkside\",\"Outer Richmond \",\"Outer Sunset\",\"Pacific Heights\",\"Park North\",\"Parkside\",\"Parnassus/Ashbury Heights\",\"Portola\",\"Potrero Hill\",\"Presidio Heights\",\"Russian Hill\",\"South Beach\",\"South of Market\",\"Sunnyside\",\"Telegraph Hill\",\"Twin Peaks\",\"Union Square District\",\"Van Ness/ Civic Center\",\"West Portal\",\"Western Addition\",\"Yerba Buena\",\"Bernal Heights \",\"Clarendon Heights\",\"Duboce Triangle\",\"Ingleside Heights\",\"North Beach\",\"North Waterfront\",\"Outer Mission\",\"Westwood Highlands\",\"Merced Heights\",\"Midtown Terrace\",\"Visitacion Valley\",\"Silver Terrace\",\"Westwood Park\",\"Bayview Heights\"],\"title\":\"Neighborhood\",\"value\":\"Alamo Square\",\"width\":250},\"id\":\"4219\",\"type\":\"Select\"},{\"attributes\":{\"children\":[{\"id\":\"3836\"},{\"id\":\"4071\"}],\"margin\":[0,0,0,0],\"name\":\"Row06064\"},\"id\":\"3830\",\"type\":\"Row\"},{\"attributes\":{},\"id\":\"3846\",\"type\":\"BasicTicker\"},{\"attributes\":{\"bottom_units\":\"screen\",\"fill_alpha\":0.5,\"fill_color\":\"lightgrey\",\"left_units\":\"screen\",\"level\":\"overlay\",\"line_alpha\":1.0,\"line_color\":\"black\",\"line_dash\":[4,4],\"line_width\":2,\"right_units\":\"screen\",\"syncable\":false,\"top_units\":\"screen\"},\"id\":\"4168\",\"type\":\"BoxAnnotation\"},{\"attributes\":{},\"id\":\"4187\",\"type\":\"AllLabels\"},{\"attributes\":{\"margin\":[5,5,5,5],\"name\":\"VSpacer06084\",\"sizing_mode\":\"stretch_height\"},\"id\":\"4220\",\"type\":\"Spacer\"},{\"attributes\":{\"line_alpha\":0.1,\"line_color\":\"#e5ae38\",\"line_width\":2,\"x\":{\"field\":\"year\"},\"y\":{\"field\":\"value\"}},\"id\":\"3919\",\"type\":\"Line\"},{\"attributes\":{},\"id\":\"4108\",\"type\":\"Selection\"},{\"attributes\":{\"children\":[{\"id\":\"4072\"},{\"id\":\"4074\"}],\"margin\":[0,0,0,0],\"name\":\"Column06071\"},\"id\":\"4071\",\"type\":\"Column\"},{\"attributes\":{\"end\":422647.8900683069,\"reset_end\":422647.8900683069,\"reset_start\":-38222.790751375396,\"start\":-38222.790751375396,\"tags\":[[[\"value\",\"value\",null]]]},\"id\":\"3832\",\"type\":\"Range1d\"},{\"attributes\":{\"data\":{\"Variable\":[\"sale_price_sqr_foot\",\"sale_price_sqr_foot\",\"sale_price_sqr_foot\",\"sale_price_sqr_foot\",\"sale_price_sqr_foot\",\"sale_price_sqr_foot\",\"sale_price_sqr_foot\"],\"value\":{\"__ndarray__\":\"DUc7WO0yckCafszcbwhxQIKRs5ot42ZAKDog0LQ8eEAVMinKGEd+QI4V5FDt0IJAVCHcmLVPdUA=\",\"dtype\":\"float64\",\"order\":\"little\",\"shape\":[7]},\"year\":[2010,2011,2012,2013,2014,2015,2016]},\"selected\":{\"id\":\"3873\"},\"selection_policy\":{\"id\":\"3887\"}},\"id\":\"3872\",\"type\":\"ColumnDataSource\"},{\"attributes\":{},\"id\":\"4190\",\"type\":\"AllLabels\"},{\"attributes\":{},\"id\":\"3869\",\"type\":\"BasicTickFormatter\"},{\"attributes\":{\"line_color\":\"#e5ae38\",\"line_width\":2,\"x\":{\"field\":\"year\"},\"y\":{\"field\":\"value\"}},\"id\":\"3918\",\"type\":\"Line\"},{\"attributes\":{},\"id\":\"4188\",\"type\":\"BasicTickFormatter\"},{\"attributes\":{\"data_source\":{\"id\":\"3893\"},\"glyph\":{\"id\":\"3896\"},\"hover_glyph\":null,\"muted_glyph\":{\"id\":\"3898\"},\"nonselection_glyph\":{\"id\":\"3897\"},\"selection_glyph\":{\"id\":\"3914\"},\"view\":{\"id\":\"3900\"}},\"id\":\"3899\",\"type\":\"GlyphRenderer\"},{\"attributes\":{\"callback\":null,\"renderers\":[{\"id\":\"4113\"}],\"tags\":[\"hv_created\"],\"tooltips\":[[\"Neighborhood\",\"@{Neighborhood}\"],[\"sale_price_sqr_foot\",\"@{sale_price_sqr_foot}\"]]},\"id\":\"4077\",\"type\":\"HoverTool\"},{\"attributes\":{\"data\":{\"Variable\":[\"gross_rent\",\"gross_rent\",\"gross_rent\",\"gross_rent\",\"gross_rent\",\"gross_rent\",\"gross_rent\"],\"value\":[1239,1530,2324,2971,3528,3739,4390],\"year\":[2010,2011,2012,2013,2014,2015,2016]},\"selected\":{\"id\":\"3916\"},\"selection_policy\":{\"id\":\"3934\"}},\"id\":\"3915\",\"type\":\"ColumnDataSource\"},{\"attributes\":{\"line_alpha\":0.2,\"line_color\":\"#e5ae38\",\"line_width\":2,\"x\":{\"field\":\"year\"},\"y\":{\"field\":\"value\"}},\"id\":\"3920\",\"type\":\"Line\"},{\"attributes\":{},\"id\":\"3934\",\"type\":\"UnionRenderers\"},{\"attributes\":{\"line_color\":\"#e5ae38\",\"line_width\":2,\"x\":{\"field\":\"year\"},\"y\":{\"field\":\"value\"}},\"id\":\"3938\",\"type\":\"Line\"},{\"attributes\":{\"css_classes\":[\"markdown\"],\"margin\":[5,5,5,5],\"name\":\"Markdown03998\",\"text\":\"&lt;h2&gt;Housing Units Per Year&lt;/h2&gt;\"},\"id\":\"3824\",\"type\":\"panel.models.markup.HTML\"},{\"attributes\":{\"axis_label\":\"year\",\"formatter\":{\"id\":\"3866\"},\"major_label_policy\":{\"id\":\"3868\"},\"ticker\":{\"id\":\"3846\"}},\"id\":\"3845\",\"type\":\"LinearAxis\"},{\"attributes\":{\"label\":{\"value\":\"gross_rent\"},\"renderers\":[{\"id\":\"3921\"}]},\"id\":\"3937\",\"type\":\"LegendItem\"},{\"attributes\":{\"margin\":[5,5,5,5],\"name\":\"Str06061\",\"text\":\"&lt;pre&gt;AxesSubplot(0.125,0.125;0.775x0.755)&lt;/pre&gt;\"},\"id\":\"3829\",\"type\":\"panel.models.markup.HTML\"},{\"attributes\":{},\"id\":\"4177\",\"type\":\"Selection\"},{\"attributes\":{\"reload\":false},\"id\":\"4426\",\"type\":\"panel.models.location.Location\"},{\"attributes\":{\"below\":[{\"id\":\"4155\"}],\"center\":[{\"id\":\"4158\"},{\"id\":\"4162\"}],\"height\":300,\"left\":[{\"id\":\"4159\"}],\"margin\":[5,5,5,5],\"min_border_bottom\":10,\"min_border_left\":10,\"min_border_right\":10,\"min_border_top\":10,\"renderers\":[{\"id\":\"4182\"}],\"sizing_mode\":\"fixed\",\"title\":{\"id\":\"4147\"},\"toolbar\":{\"id\":\"4169\"},\"width\":700,\"x_range\":{\"id\":\"3831\"},\"x_scale\":{\"id\":\"4151\"},\"y_range\":{\"id\":\"4076\"},\"y_scale\":{\"id\":\"4153\"}},\"id\":\"4146\",\"subtype\":\"Figure\",\"type\":\"Plot\"},{\"attributes\":{\"data\":{\"Neighborhood\":[\"South Beach\",\"Potrero Hill\",\"Cow Hollow\",\"Presidio Heights\",\"Telegraph Hill\",\"Westwood Park\",\"Pacific Heights\",\"Miraloma Park\",\"Merced Heights\",\"Union Square District\"],\"sale_price_sqr_foot\":{\"__ndarray__\":\"ya3y7v5QhECazArhG7CEQAtXblu2z4RAy835O80ahUC7CoV4DSSFQGvQRFqzeIVAFZsVUHKMhUBcf96afF6IQH0iuS/CpohAJRAUMfI/jEA=\",\"dtype\":\"float64\",\"order\":\"little\",\"shape\":[10]}},\"selected\":{\"id\":\"4108\"},\"selection_policy\":{\"id\":\"4129\"}},\"id\":\"4107\",\"type\":\"ColumnDataSource\"},{\"attributes\":{\"source\":{\"id\":\"3893\"}},\"id\":\"3900\",\"type\":\"CDSView\"},{\"attributes\":{},\"id\":\"3866\",\"type\":\"BasicTickFormatter\"},{\"attributes\":{\"factors\":[\"South Beach\",\"Potrero Hill\",\"Cow Hollow\",\"Presidio Heights\",\"Telegraph Hill\",\"Westwood Park\",\"Pacific Heights\",\"Miraloma Park\",\"Merced Heights\",\"Union Square District\"],\"tags\":[[[\"Neighborhood\",\"Neighborhood\",null]]]},\"id\":\"4075\",\"type\":\"FactorRange\"},{\"attributes\":{},\"id\":\"3871\",\"type\":\"AllLabels\"},{\"attributes\":{},\"id\":\"4096\",\"type\":\"WheelZoomTool\"},{\"attributes\":{\"below\":[{\"id\":\"4087\"}],\"center\":[{\"id\":\"4089\"},{\"id\":\"4093\"}],\"height\":300,\"left\":[{\"id\":\"4090\"}],\"margin\":[5,5,5,5],\"min_border_bottom\":10,\"min_border_left\":10,\"min_border_right\":10,\"min_border_top\":10,\"renderers\":[{\"id\":\"4113\"}],\"sizing_mode\":\"fixed\",\"title\":{\"id\":\"4079\"},\"toolbar\":{\"id\":\"4100\"},\"width\":700,\"x_range\":{\"id\":\"4075\"},\"x_scale\":{\"id\":\"4083\"},\"y_range\":{\"id\":\"4076\"},\"y_scale\":{\"id\":\"4085\"}},\"id\":\"4078\",\"subtype\":\"Figure\",\"type\":\"Plot\"},{\"attributes\":{\"css_classes\":[\"markdown\"],\"margin\":[5,5,5,5],\"name\":\"Markdown04003\",\"text\":\"&lt;h2&gt;Average Gross Rent&lt;/h2&gt;\"},\"id\":\"3827\",\"type\":\"panel.models.markup.HTML\"},{\"attributes\":{\"text\":\"Rent vs Price\",\"text_color\":\"black\",\"text_font_size\":\"12pt\"},\"id\":\"3837\",\"type\":\"Title\"},{\"attributes\":{},\"id\":\"3841\",\"type\":\"LinearScale\"},{\"attributes\":{\"margin\":[5,5,5,5],\"name\":\"VSpacer06070\",\"sizing_mode\":\"stretch_height\"},\"id\":\"4074\",\"type\":\"Spacer\"},{\"attributes\":{\"axis\":{\"id\":\"3845\"},\"grid_line_color\":null,\"ticker\":null},\"id\":\"3848\",\"type\":\"Grid\"},{\"attributes\":{},\"id\":\"3843\",\"type\":\"LinearScale\"}],\"root_ids\":[\"3822\",\"4323\",\"4426\"]},\"title\":\"Bokeh Application\",\"version\":\"2.3.2\"}};\n",
       "    var render_items = [{\"docid\":\"750d8532-3dc7-4b11-855e-215d8d817d82\",\"root_ids\":[\"3822\"],\"roots\":{\"3822\":\"252219f4-75c5-4816-8ded-8a80b395a699\"}}];\n",
       "    root.Bokeh.embed.embed_items_notebook(docs_json, render_items);\n",
       "  }\n",
       "  if (root.Bokeh !== undefined && root.Bokeh.Panel !== undefined && ( root['Plotly'] !== undefined)) {\n",
       "    embed_document(root);\n",
       "  } else {\n",
       "    var attempts = 0;\n",
       "    var timer = setInterval(function(root) {\n",
       "      if (root.Bokeh !== undefined && root.Bokeh.Panel !== undefined && (root['Plotly'] !== undefined)) {\n",
       "        clearInterval(timer);\n",
       "        embed_document(root);\n",
       "      } else if (document.readyState == \"complete\") {\n",
       "        attempts++;\n",
       "        if (attempts > 200) {\n",
       "          clearInterval(timer);\n",
       "          console.log(\"Bokeh: ERROR: Unable to run BokehJS code because BokehJS library is missing\");\n",
       "        }\n",
       "      }\n",
       "    }, 25, root)\n",
       "  }\n",
       "})(window);</script>"
      ],
      "text/plain": [
       "Row\n",
       "    [0] Column\n",
       "        [0] Markdown(str)\n",
       "        [1] Str(AxesSubplot)\n",
       "    [1] Column\n",
       "        [0] Markdown(str)\n",
       "        [1] Str(AxesSubplot)\n",
       "    [2] Str(AxesSubplot)\n",
       "    [3] Row\n",
       "        [0] HoloViews(DynamicMap)\n",
       "        [1] Column\n",
       "            [0] WidgetBox\n",
       "                [0] Select(margin=(20, 20, 20, 20), name='Neighborhood', options=['Alamo Square', ...], value='Alamo Square', width=250)\n",
       "            [1] VSpacer()\n",
       "    [4] HoloViews(Bars)\n",
       "    [5] Row\n",
       "        [0] HoloViews(DynamicMap)\n",
       "        [1] Column\n",
       "            [0] WidgetBox\n",
       "                [0] Select(margin=(20, 20, 20, 20), name='Neighborhood', options=['Alamo Square', ...], value='Alamo Square', width=250)\n",
       "            [1] VSpacer()"
      ]
     },
     "execution_count": 75,
     "metadata": {
      "application/vnd.holoviews_exec.v0+json": {
       "id": "3822"
      }
     },
     "output_type": "execute_result"
    }
   ],
   "source": [
    "# Create a Title for the Dashboard\n",
    "mean_units_column = pn.Column(\"## Housing Units Per Year\", mean_units_plot)\n",
    "avg_grossrent_column = pn.Column(\"## Average Gross Rent\", avg_grossrent_plot)\n",
    "avg_sqrfoot_column = pn.Column(\"## Average Price/Sq Ft\", avg_sqrfoot_plot)\n",
    "sfo_rentprice_column = pn.Column(\"## Rent Vs Price\", sfo_rentprice_plot)\n",
    "sfo_10exp_column = pn.Column(\"## 10 Most Expensive\", sfo_10exp_plot)\n",
    "sfo_means_column = pn.Column(\"## 10 Most Expensive Rent\", sfo_means_plot)\n",
    "\n",
    "# Create a tab layout for the dashboard\n",
    "dashboard = pn.Tabs(\n",
    "    (\n",
    "        \"Housing Units Per Year\",\n",
    "        mean_units_column\n",
    "    ),\n",
    "    (\n",
    "        \"Average Gross Rent\",\n",
    "        avg_grossrent_column\n",
    "    ),\n",
    "     (\n",
    "        \"Average Price/Sq Ft\",\n",
    "        avg_sqrfoot_column\n",
    "    ),\n",
    "    (\n",
    "        \"Rent Vs Price\",\n",
    "        sfo_rentprice_plot\n",
    "    ),\n",
    "   (\n",
    "        \"10 Most Expensive\",\n",
    "        sfo_10exp_plot\n",
    "    ),\n",
    "    (\n",
    "        \"10 Most Expensive Rent\",\n",
    "        sfo_means_plot\n",
    "    ),\n",
    ")\n",
    "\n",
    "dashboard\n",
    "\n",
    "\n",
    "# Create the dashboard\n",
    "dashboard = pn.Row(mean_units_plot)\n",
    "dashboard.append(avg_grossrent_plot)\n",
    "dashboard.append(avg_sqrfoot_plot)\n",
    "dashboard.append(sfo_rentprice_plot)\n",
    "dashboard.append(sfo_10exp_plot)\n",
    "dashboard.append(sfo_means_plot)\n",
    "dashboard\n",
    "\n",
    "# Note: I am not sure why the tabs did not show below?"
   ]
  },
  {
   "cell_type": "markdown",
   "metadata": {},
   "source": [
    "## Serve the Panel Dashboard"
   ]
  },
  {
   "cell_type": "code",
   "execution_count": 76,
   "metadata": {},
   "outputs": [
    {
     "data": {},
     "metadata": {},
     "output_type": "display_data"
    },
    {
     "data": {},
     "metadata": {},
     "output_type": "display_data"
    },
    {
     "data": {
      "application/vnd.holoviews_exec.v0+json": "",
      "text/html": [
       "<div id='4529'>\n",
       "\n",
       "\n",
       "\n",
       "\n",
       "\n",
       "  <div class=\"bk-root\" id=\"d092d20f-782b-47f4-aac8-a267316f85a3\" data-root-id=\"4529\"></div>\n",
       "</div>\n",
       "<script type=\"application/javascript\">(function(root) {\n",
       "  function embed_document(root) {\n",
       "    var docs_json = {\"5675bde7-8424-4f5b-a643-2c49270a0372\":{\"defs\":[{\"extends\":null,\"module\":null,\"name\":\"ReactiveHTML1\",\"overrides\":[],\"properties\":[]},{\"extends\":null,\"module\":null,\"name\":\"FlexBox1\",\"overrides\":[],\"properties\":[{\"default\":\"flex-start\",\"kind\":null,\"name\":\"align_content\"},{\"default\":\"flex-start\",\"kind\":null,\"name\":\"align_items\"},{\"default\":\"row\",\"kind\":null,\"name\":\"flex_direction\"},{\"default\":\"wrap\",\"kind\":null,\"name\":\"flex_wrap\"},{\"default\":\"flex-start\",\"kind\":null,\"name\":\"justify_content\"}]},{\"extends\":null,\"module\":null,\"name\":\"TemplateActions1\",\"overrides\":[],\"properties\":[{\"default\":0,\"kind\":null,\"name\":\"open_modal\"},{\"default\":0,\"kind\":null,\"name\":\"close_modal\"}]},{\"extends\":null,\"module\":null,\"name\":\"MaterialTemplateActions1\",\"overrides\":[],\"properties\":[{\"default\":0,\"kind\":null,\"name\":\"open_modal\"},{\"default\":0,\"kind\":null,\"name\":\"close_modal\"}]}],\"roots\":{\"references\":[{\"attributes\":{},\"id\":\"4795\",\"type\":\"CategoricalTicker\"},{\"attributes\":{\"children\":[{\"id\":\"4530\"},{\"id\":\"4533\"},{\"id\":\"4536\"},{\"id\":\"4537\"},{\"id\":\"4785\"},{\"id\":\"4849\"}],\"margin\":[0,0,0,0],\"name\":\"Row06060\"},\"id\":\"4529\",\"type\":\"Row\"},{\"attributes\":{},\"id\":\"4798\",\"type\":\"BasicTicker\"},{\"attributes\":{\"axis\":{\"id\":\"4794\"},\"grid_line_color\":null,\"ticker\":null},\"id\":\"4796\",\"type\":\"Grid\"},{\"attributes\":{\"axis_label\":\"sale_price_sqr_foot\",\"formatter\":{\"id\":\"4826\"},\"major_label_policy\":{\"id\":\"4828\"},\"ticker\":{\"id\":\"4798\"}},\"id\":\"4797\",\"type\":\"LinearAxis\"},{\"attributes\":{\"callback\":null,\"renderers\":[{\"id\":\"4585\"},{\"id\":\"4606\"},{\"id\":\"4628\"}],\"tags\":[\"hv_created\"],\"tooltips\":[[\"Variable\",\"@{Variable}\"],[\"year\",\"@{year}\"],[\"value\",\"@{value}\"]]},\"id\":\"4540\",\"type\":\"HoverTool\"},{\"attributes\":{\"axis\":{\"id\":\"4797\"},\"dimension\":1,\"grid_line_color\":null,\"ticker\":null},\"id\":\"4800\",\"type\":\"Grid\"},{\"attributes\":{},\"id\":\"4550\",\"type\":\"LinearScale\"},{\"attributes\":{\"fill_alpha\":{\"value\":0.2},\"fill_color\":{\"value\":\"#30a2da\"},\"line_alpha\":{\"value\":0.2},\"top\":{\"field\":\"sale_price_sqr_foot\"},\"width\":{\"value\":0.8},\"x\":{\"field\":\"Neighborhood\"}},\"id\":\"4819\",\"type\":\"VBar\"},{\"attributes\":{\"line_alpha\":0.2,\"line_color\":\"#e5ae38\",\"line_width\":2,\"x\":{\"field\":\"year\"},\"y\":{\"field\":\"value\"}},\"id\":\"4627\",\"type\":\"Line\"},{\"attributes\":{\"margin\":[20,20,20,20],\"min_width\":250,\"options\":[\"Alamo Square\",\"Anza Vista\",\"Bayview\",\"Buena Vista Park\",\"Central Richmond\",\"Central Sunset\",\"Corona Heights\",\"Cow Hollow\",\"Croker Amazon\",\"Diamond Heights\",\"Downtown \",\"Eureka Valley/Dolores Heights\",\"Excelsior\",\"Financial District North\",\"Financial District South\",\"Forest Knolls\",\"Glen Park\",\"Golden Gate Heights\",\"Haight Ashbury\",\"Hayes Valley\",\"Hunters Point\",\"Ingleside \",\"Inner Mission\",\"Inner Parkside\",\"Inner Richmond\",\"Inner Sunset\",\"Jordan Park/Laurel Heights\",\"Lake --The Presidio\",\"Lone Mountain\",\"Lower Pacific Heights\",\"Marina\",\"Miraloma Park\",\"Mission Bay\",\"Mission Dolores\",\"Mission Terrace\",\"Nob Hill\",\"Noe Valley\",\"Oceanview\",\"Outer Parkside\",\"Outer Richmond \",\"Outer Sunset\",\"Pacific Heights\",\"Park North\",\"Parkside\",\"Parnassus/Ashbury Heights\",\"Portola\",\"Potrero Hill\",\"Presidio Heights\",\"Russian Hill\",\"South Beach\",\"South of Market\",\"Sunnyside\",\"Telegraph Hill\",\"Twin Peaks\",\"Union Square District\",\"Van Ness/ Civic Center\",\"West Portal\",\"Western Addition\",\"Yerba Buena\",\"Bernal Heights \",\"Clarendon Heights\",\"Duboce Triangle\",\"Ingleside Heights\",\"North Beach\",\"North Waterfront\",\"Outer Mission\",\"Westwood Highlands\",\"Merced Heights\",\"Midtown Terrace\",\"Visitacion Valley\",\"Silver Terrace\",\"Westwood Park\",\"Bayview Heights\"],\"title\":\"Neighborhood\",\"value\":\"Alamo Square\",\"width\":250},\"id\":\"4780\",\"type\":\"Select\"},{\"attributes\":{\"data\":{\"Variable\":[\"sale_price_sqr_foot\",\"sale_price_sqr_foot\",\"sale_price_sqr_foot\",\"sale_price_sqr_foot\",\"sale_price_sqr_foot\",\"sale_price_sqr_foot\",\"sale_price_sqr_foot\"],\"value\":{\"__ndarray__\":\"DUc7WO0yckCafszcbwhxQIKRs5ot42ZAKDog0LQ8eEAVMinKGEd+QI4V5FDt0IJAVCHcmLVPdUA=\",\"dtype\":\"float64\",\"order\":\"little\",\"shape\":[7]},\"year\":[2010,2011,2012,2013,2014,2015,2016]},\"selected\":{\"id\":\"4580\"},\"selection_policy\":{\"id\":\"4594\"}},\"id\":\"4579\",\"type\":\"ColumnDataSource\"},{\"attributes\":{\"source\":{\"id\":\"4814\"}},\"id\":\"4821\",\"type\":\"CDSView\"},{\"attributes\":{\"children\":[{\"id\":\"4543\"},{\"id\":\"4778\"}],\"margin\":[0,0,0,0],\"name\":\"Row06064\"},\"id\":\"4537\",\"type\":\"Row\"},{\"attributes\":{},\"id\":\"4801\",\"type\":\"SaveTool\"},{\"attributes\":{\"data\":{\"Variable\":[\"gross_rent\",\"gross_rent\",\"gross_rent\",\"gross_rent\",\"gross_rent\",\"gross_rent\",\"gross_rent\"],\"value\":[1239,1530,2324,2971,3528,3739,4390],\"year\":[2010,2011,2012,2013,2014,2015,2016]},\"selected\":{\"id\":\"4623\"},\"selection_policy\":{\"id\":\"4641\"}},\"id\":\"4622\",\"type\":\"ColumnDataSource\"},{\"attributes\":{\"line_color\":\"#e5ae38\",\"line_width\":2,\"x\":{\"field\":\"year\"},\"y\":{\"field\":\"value\"}},\"id\":\"4645\",\"type\":\"Line\"},{\"attributes\":{\"children\":[{\"id\":\"4531\"},{\"id\":\"4532\"}],\"margin\":[0,0,0,0],\"name\":\"Column04002\"},\"id\":\"4530\",\"type\":\"Column\"},{\"attributes\":{},\"id\":\"4802\",\"type\":\"PanTool\"},{\"attributes\":{},\"id\":\"4805\",\"type\":\"ResetTool\"},{\"attributes\":{\"overlay\":{\"id\":\"4806\"}},\"id\":\"4804\",\"type\":\"BoxZoomTool\"},{\"attributes\":{\"callback\":null,\"renderers\":[{\"id\":\"4889\"}],\"tags\":[\"hv_created\"],\"tooltips\":[[\"year\",\"@{year}\"],[\"sale_price_sqr_foot\",\"@{sale_price_sqr_foot}\"]]},\"id\":\"4852\",\"type\":\"HoverTool\"},{\"attributes\":{\"bottom\":{\"value\":0},\"fill_alpha\":{\"value\":1.0},\"fill_color\":{\"value\":\"#30a2da\"},\"hatch_alpha\":{\"value\":1.0},\"hatch_color\":{\"value\":\"black\"},\"hatch_scale\":{\"value\":12.0},\"hatch_weight\":{\"value\":1.0},\"line_alpha\":{\"value\":1.0},\"line_cap\":{\"value\":\"butt\"},\"line_color\":{\"value\":\"black\"},\"line_dash\":{\"value\":[]},\"line_dash_offset\":{\"value\":0},\"line_join\":{\"value\":\"bevel\"},\"line_width\":{\"value\":1},\"top\":{\"field\":\"sale_price_sqr_foot\"},\"width\":{\"value\":0.8},\"x\":{\"field\":\"Neighborhood\"}},\"id\":\"4822\",\"type\":\"VBar\"},{\"attributes\":{\"children\":[{\"id\":\"4925\"},{\"id\":\"4927\"}],\"margin\":[0,0,0,0],\"name\":\"Column06085\"},\"id\":\"4924\",\"type\":\"Column\"},{\"attributes\":{\"label\":{\"value\":\"gross_rent\"},\"renderers\":[{\"id\":\"4628\"}]},\"id\":\"4644\",\"type\":\"LegendItem\"},{\"attributes\":{},\"id\":\"4578\",\"type\":\"AllLabels\"},{\"attributes\":{},\"id\":\"4553\",\"type\":\"BasicTicker\"},{\"attributes\":{},\"id\":\"4828\",\"type\":\"AllLabels\"},{\"attributes\":{\"axis\":{\"id\":\"4552\"},\"grid_line_color\":null,\"ticker\":null},\"id\":\"4555\",\"type\":\"Grid\"},{\"attributes\":{},\"id\":\"4826\",\"type\":\"BasicTickFormatter\"},{\"attributes\":{\"axis_label\":\"dollars\",\"formatter\":{\"id\":\"4576\"},\"major_label_policy\":{\"id\":\"4578\"},\"ticker\":{\"id\":\"4557\"}},\"id\":\"4556\",\"type\":\"LinearAxis\"},{\"attributes\":{\"text\":\"Rent vs Price\",\"text_color\":\"black\",\"text_font_size\":\"12pt\"},\"id\":\"4544\",\"type\":\"Title\"},{\"attributes\":{},\"id\":\"4548\",\"type\":\"LinearScale\"},{\"attributes\":{\"active_multi\":null,\"tools\":[{\"id\":\"4784\"},{\"id\":\"4801\"},{\"id\":\"4802\"},{\"id\":\"4803\"},{\"id\":\"4804\"},{\"id\":\"4805\"}]},\"id\":\"4807\",\"type\":\"Toolbar\"},{\"attributes\":{},\"id\":\"4576\",\"type\":\"BasicTickFormatter\"},{\"attributes\":{\"line_alpha\":0.1,\"line_color\":\"#30a2da\",\"line_width\":2,\"x\":{\"field\":\"year\"},\"y\":{\"field\":\"sale_price_sqr_foot\"}},\"id\":\"4887\",\"type\":\"Line\"},{\"attributes\":{\"axis_label\":\"year\",\"formatter\":{\"id\":\"4573\"},\"major_label_policy\":{\"id\":\"4575\"},\"ticker\":{\"id\":\"4553\"}},\"id\":\"4552\",\"type\":\"LinearAxis\"},{\"attributes\":{},\"id\":\"4863\",\"type\":\"BasicTicker\"},{\"attributes\":{\"bottom_units\":\"screen\",\"fill_alpha\":0.5,\"fill_color\":\"lightgrey\",\"left_units\":\"screen\",\"level\":\"overlay\",\"line_alpha\":1.0,\"line_color\":\"black\",\"line_dash\":[4,4],\"line_width\":2,\"right_units\":\"screen\",\"syncable\":false,\"top_units\":\"screen\"},\"id\":\"4806\",\"type\":\"BoxAnnotation\"},{\"attributes\":{},\"id\":\"4911\",\"type\":\"UnionRenderers\"},{\"attributes\":{\"data_source\":{\"id\":\"4814\"},\"glyph\":{\"id\":\"4817\"},\"hover_glyph\":null,\"muted_glyph\":{\"id\":\"4819\"},\"nonselection_glyph\":{\"id\":\"4818\"},\"selection_glyph\":{\"id\":\"4822\"},\"view\":{\"id\":\"4821\"}},\"id\":\"4820\",\"type\":\"GlyphRenderer\"},{\"attributes\":{\"line_color\":\"#30a2da\",\"line_width\":2,\"x\":{\"field\":\"year\"},\"y\":{\"field\":\"sale_price_sqr_foot\"}},\"id\":\"4886\",\"type\":\"Line\"},{\"attributes\":{},\"id\":\"4557\",\"type\":\"BasicTicker\"},{\"attributes\":{\"axis\":{\"id\":\"4556\"},\"dimension\":1,\"grid_line_color\":null,\"ticker\":null},\"id\":\"4559\",\"type\":\"Grid\"},{\"attributes\":{\"below\":[{\"id\":\"4862\"}],\"center\":[{\"id\":\"4865\"},{\"id\":\"4869\"}],\"height\":300,\"left\":[{\"id\":\"4866\"}],\"margin\":[5,5,5,5],\"min_border_bottom\":10,\"min_border_left\":10,\"min_border_right\":10,\"min_border_top\":10,\"renderers\":[{\"id\":\"4889\"}],\"sizing_mode\":\"fixed\",\"title\":{\"id\":\"4854\"},\"toolbar\":{\"id\":\"4876\"},\"width\":700,\"x_range\":{\"id\":\"4538\"},\"x_scale\":{\"id\":\"4858\"},\"y_range\":{\"id\":\"4783\"},\"y_scale\":{\"id\":\"4860\"}},\"id\":\"4853\",\"subtype\":\"Figure\",\"type\":\"Plot\"},{\"attributes\":{},\"id\":\"4823\",\"type\":\"CategoricalTickFormatter\"},{\"attributes\":{},\"id\":\"4892\",\"type\":\"BasicTickFormatter\"},{\"attributes\":{\"line_color\":\"#fc4f30\",\"line_width\":2,\"x\":{\"field\":\"year\"},\"y\":{\"field\":\"value\"}},\"id\":\"4621\",\"type\":\"Line\"},{\"attributes\":{\"line_alpha\":0.2,\"line_color\":\"#30a2da\",\"line_width\":2,\"x\":{\"field\":\"year\"},\"y\":{\"field\":\"sale_price_sqr_foot\"}},\"id\":\"4888\",\"type\":\"Line\"},{\"attributes\":{},\"id\":\"4884\",\"type\":\"Selection\"},{\"attributes\":{\"end\":2016.0,\"reset_end\":2016.0,\"reset_start\":2010.0,\"start\":2010.0,\"tags\":[[[\"year\",\"year\",null]]]},\"id\":\"4538\",\"type\":\"Range1d\"},{\"attributes\":{\"margin\":[5,5,5,5],\"name\":\"Str04005\",\"text\":\"&lt;pre&gt;AxesSubplot(0.125,0.125;0.775x0.755)&lt;/pre&gt;\"},\"id\":\"4535\",\"type\":\"panel.models.markup.HTML\"},{\"attributes\":{},\"id\":\"4562\",\"type\":\"WheelZoomTool\"},{\"attributes\":{},\"id\":\"4860\",\"type\":\"LinearScale\"},{\"attributes\":{\"data\":{\"Variable\":[\"housing_units\",\"housing_units\",\"housing_units\",\"housing_units\",\"housing_units\",\"housing_units\",\"housing_units\"],\"value\":[372560,374507,376454,378401,380348,382295,384242],\"year\":[2010,2011,2012,2013,2014,2015,2016]},\"selected\":{\"id\":\"4601\"},\"selection_policy\":{\"id\":\"4617\"}},\"id\":\"4600\",\"type\":\"ColumnDataSource\"},{\"attributes\":{},\"id\":\"4560\",\"type\":\"SaveTool\"},{\"attributes\":{},\"id\":\"4641\",\"type\":\"UnionRenderers\"},{\"attributes\":{\"axis_label\":\"Year\",\"formatter\":{\"id\":\"4892\"},\"major_label_policy\":{\"id\":\"4894\"},\"ticker\":{\"id\":\"4863\"}},\"id\":\"4862\",\"type\":\"LinearAxis\"},{\"attributes\":{},\"id\":\"4561\",\"type\":\"PanTool\"},{\"attributes\":{\"text\":\"Average Price/Sq Foot By Neighborhood\",\"text_color\":\"black\",\"text_font_size\":\"12pt\"},\"id\":\"4854\",\"type\":\"Title\"},{\"attributes\":{\"children\":[{\"id\":\"4779\"},{\"id\":\"4781\"}],\"margin\":[0,0,0,0],\"name\":\"Column06071\"},\"id\":\"4778\",\"type\":\"Column\"},{\"attributes\":{},\"id\":\"4858\",\"type\":\"LinearScale\"},{\"attributes\":{\"overlay\":{\"id\":\"4565\"}},\"id\":\"4563\",\"type\":\"BoxZoomTool\"},{\"attributes\":{\"axis\":{\"id\":\"4862\"},\"grid_line_color\":null,\"ticker\":null},\"id\":\"4865\",\"type\":\"Grid\"},{\"attributes\":{\"margin\":[5,5,5,5],\"name\":\"VSpacer06070\",\"sizing_mode\":\"stretch_height\"},\"id\":\"4781\",\"type\":\"Spacer\"},{\"attributes\":{\"axis_label\":\"Average price/sq ft\",\"formatter\":{\"id\":\"4895\"},\"major_label_policy\":{\"id\":\"4897\"},\"ticker\":{\"id\":\"4867\"}},\"id\":\"4866\",\"type\":\"LinearAxis\"},{\"attributes\":{},\"id\":\"4564\",\"type\":\"ResetTool\"},{\"attributes\":{\"callback\":null,\"renderers\":[{\"id\":\"4820\"}],\"tags\":[\"hv_created\"],\"tooltips\":[[\"Neighborhood\",\"@{Neighborhood}\"],[\"sale_price_sqr_foot\",\"@{sale_price_sqr_foot}\"]]},\"id\":\"4784\",\"type\":\"HoverTool\"},{\"attributes\":{\"children\":[{\"id\":\"4780\"}],\"css_classes\":[\"panel-widget-box\"],\"margin\":[5,5,5,5],\"name\":\"WidgetBox06065\"},\"id\":\"4779\",\"type\":\"Column\"},{\"attributes\":{},\"id\":\"4803\",\"type\":\"WheelZoomTool\"},{\"attributes\":{},\"id\":\"4867\",\"type\":\"BasicTicker\"},{\"attributes\":{\"axis\":{\"id\":\"4866\"},\"dimension\":1,\"grid_line_color\":null,\"ticker\":null},\"id\":\"4869\",\"type\":\"Grid\"},{\"attributes\":{\"source\":{\"id\":\"4622\"}},\"id\":\"4629\",\"type\":\"CDSView\"},{\"attributes\":{\"children\":[{\"id\":\"4534\"},{\"id\":\"4535\"}],\"margin\":[0,0,0,0],\"name\":\"Column04007\"},\"id\":\"4533\",\"type\":\"Column\"},{\"attributes\":{\"active_multi\":null,\"tools\":[{\"id\":\"4540\"},{\"id\":\"4560\"},{\"id\":\"4561\"},{\"id\":\"4562\"},{\"id\":\"4563\"},{\"id\":\"4564\"}]},\"id\":\"4566\",\"type\":\"Toolbar\"},{\"attributes\":{\"client_comm_id\":\"fd3608960e82452284555cb933f31a05\",\"comm_id\":\"6921871d998d49f7bcee69459b07b860\",\"plot_id\":\"4529\"},\"id\":\"5030\",\"type\":\"panel.models.comm_manager.CommManager\"},{\"attributes\":{\"source\":{\"id\":\"4883\"}},\"id\":\"4890\",\"type\":\"CDSView\"},{\"attributes\":{\"data_source\":{\"id\":\"4883\"},\"glyph\":{\"id\":\"4886\"},\"hover_glyph\":null,\"muted_glyph\":{\"id\":\"4888\"},\"nonselection_glyph\":{\"id\":\"4887\"},\"selection_glyph\":{\"id\":\"4891\"},\"view\":{\"id\":\"4890\"}},\"id\":\"4889\",\"type\":\"GlyphRenderer\"},{\"attributes\":{},\"id\":\"4894\",\"type\":\"AllLabels\"},{\"attributes\":{\"bottom_units\":\"screen\",\"fill_alpha\":0.5,\"fill_color\":\"lightgrey\",\"left_units\":\"screen\",\"level\":\"overlay\",\"line_alpha\":1.0,\"line_color\":\"black\",\"line_dash\":[4,4],\"line_width\":2,\"right_units\":\"screen\",\"syncable\":false,\"top_units\":\"screen\"},\"id\":\"4565\",\"type\":\"BoxAnnotation\"},{\"attributes\":{},\"id\":\"4573\",\"type\":\"BasicTickFormatter\"},{\"attributes\":{},\"id\":\"4825\",\"type\":\"AllLabels\"},{\"attributes\":{},\"id\":\"4870\",\"type\":\"SaveTool\"},{\"attributes\":{\"factors\":[\"South Beach\",\"Potrero Hill\",\"Cow Hollow\",\"Presidio Heights\",\"Telegraph Hill\",\"Westwood Park\",\"Pacific Heights\",\"Miraloma Park\",\"Merced Heights\",\"Union Square District\"],\"tags\":[[[\"Neighborhood\",\"Neighborhood\",null]]]},\"id\":\"4782\",\"type\":\"FactorRange\"},{\"attributes\":{},\"id\":\"4871\",\"type\":\"PanTool\"},{\"attributes\":{},\"id\":\"4874\",\"type\":\"ResetTool\"},{\"attributes\":{\"below\":[{\"id\":\"4794\"}],\"center\":[{\"id\":\"4796\"},{\"id\":\"4800\"}],\"height\":300,\"left\":[{\"id\":\"4797\"}],\"margin\":[5,5,5,5],\"min_border_bottom\":10,\"min_border_left\":10,\"min_border_right\":10,\"min_border_top\":10,\"renderers\":[{\"id\":\"4820\"}],\"sizing_mode\":\"fixed\",\"title\":{\"id\":\"4786\"},\"toolbar\":{\"id\":\"4807\"},\"width\":700,\"x_range\":{\"id\":\"4782\"},\"x_scale\":{\"id\":\"4790\"},\"y_range\":{\"id\":\"4783\"},\"y_scale\":{\"id\":\"4792\"}},\"id\":\"4785\",\"subtype\":\"Figure\",\"type\":\"Plot\"},{\"attributes\":{},\"id\":\"4872\",\"type\":\"WheelZoomTool\"},{\"attributes\":{\"overlay\":{\"id\":\"4875\"}},\"id\":\"4873\",\"type\":\"BoxZoomTool\"},{\"attributes\":{\"line_color\":\"#30a2da\",\"line_width\":2,\"x\":{\"field\":\"year\"},\"y\":{\"field\":\"sale_price_sqr_foot\"}},\"id\":\"4891\",\"type\":\"Line\"},{\"attributes\":{\"source\":{\"id\":\"4579\"}},\"id\":\"4586\",\"type\":\"CDSView\"},{\"attributes\":{\"line_color\":\"#30a2da\",\"line_width\":2,\"x\":{\"field\":\"year\"},\"y\":{\"field\":\"value\"}},\"id\":\"4599\",\"type\":\"Line\"},{\"attributes\":{\"data_source\":{\"id\":\"4579\"},\"glyph\":{\"id\":\"4582\"},\"hover_glyph\":null,\"muted_glyph\":{\"id\":\"4584\"},\"nonselection_glyph\":{\"id\":\"4583\"},\"selection_glyph\":{\"id\":\"4599\"},\"view\":{\"id\":\"4586\"}},\"id\":\"4585\",\"type\":\"GlyphRenderer\"},{\"attributes\":{\"css_classes\":[\"markdown\"],\"margin\":[5,5,5,5],\"name\":\"Markdown03998\",\"text\":\"&lt;h2&gt;Housing Units Per Year&lt;/h2&gt;\"},\"id\":\"4531\",\"type\":\"panel.models.markup.HTML\"},{\"attributes\":{\"margin\":[20,20,20,20],\"min_width\":250,\"options\":[\"Alamo Square\",\"Anza Vista\",\"Bayview\",\"Buena Vista Park\",\"Central Richmond\",\"Central Sunset\",\"Corona Heights\",\"Cow Hollow\",\"Croker Amazon\",\"Diamond Heights\",\"Downtown \",\"Eureka Valley/Dolores Heights\",\"Excelsior\",\"Financial District North\",\"Financial District South\",\"Forest Knolls\",\"Glen Park\",\"Golden Gate Heights\",\"Haight Ashbury\",\"Hayes Valley\",\"Hunters Point\",\"Ingleside \",\"Inner Mission\",\"Inner Parkside\",\"Inner Richmond\",\"Inner Sunset\",\"Jordan Park/Laurel Heights\",\"Lake --The Presidio\",\"Lone Mountain\",\"Lower Pacific Heights\",\"Marina\",\"Miraloma Park\",\"Mission Bay\",\"Mission Dolores\",\"Mission Terrace\",\"Nob Hill\",\"Noe Valley\",\"Oceanview\",\"Outer Parkside\",\"Outer Richmond \",\"Outer Sunset\",\"Pacific Heights\",\"Park North\",\"Parkside\",\"Parnassus/Ashbury Heights\",\"Portola\",\"Potrero Hill\",\"Presidio Heights\",\"Russian Hill\",\"South Beach\",\"South of Market\",\"Sunnyside\",\"Telegraph Hill\",\"Twin Peaks\",\"Union Square District\",\"Van Ness/ Civic Center\",\"West Portal\",\"Western Addition\",\"Yerba Buena\",\"Bernal Heights \",\"Clarendon Heights\",\"Duboce Triangle\",\"Ingleside Heights\",\"North Beach\",\"North Waterfront\",\"Outer Mission\",\"Westwood Highlands\",\"Merced Heights\",\"Midtown Terrace\",\"Visitacion Valley\",\"Silver Terrace\",\"Westwood Park\",\"Bayview Heights\"],\"title\":\"Neighborhood\",\"value\":\"Alamo Square\",\"width\":250},\"id\":\"4926\",\"type\":\"Select\"},{\"attributes\":{\"label\":{\"value\":\"sale_price_sqr_foot\"},\"renderers\":[{\"id\":\"4585\"}]},\"id\":\"4598\",\"type\":\"LegendItem\"},{\"attributes\":{\"margin\":[5,5,5,5],\"name\":\"Str06061\",\"text\":\"&lt;pre&gt;AxesSubplot(0.125,0.125;0.775x0.755)&lt;/pre&gt;\"},\"id\":\"4536\",\"type\":\"panel.models.markup.HTML\"},{\"attributes\":{},\"id\":\"4594\",\"type\":\"UnionRenderers\"},{\"attributes\":{\"click_policy\":\"mute\",\"items\":[{\"id\":\"4598\"},{\"id\":\"4620\"},{\"id\":\"4644\"}],\"location\":[0,0],\"title\":\"Variable\"},\"id\":\"4597\",\"type\":\"Legend\"},{\"attributes\":{\"data_source\":{\"id\":\"4600\"},\"glyph\":{\"id\":\"4603\"},\"hover_glyph\":null,\"muted_glyph\":{\"id\":\"4605\"},\"nonselection_glyph\":{\"id\":\"4604\"},\"selection_glyph\":{\"id\":\"4621\"},\"view\":{\"id\":\"4607\"}},\"id\":\"4606\",\"type\":\"GlyphRenderer\"},{\"attributes\":{\"active_multi\":null,\"tools\":[{\"id\":\"4852\"},{\"id\":\"4870\"},{\"id\":\"4871\"},{\"id\":\"4872\"},{\"id\":\"4873\"},{\"id\":\"4874\"}]},\"id\":\"4876\",\"type\":\"Toolbar\"},{\"attributes\":{\"label\":{\"value\":\"housing_units\"},\"renderers\":[{\"id\":\"4606\"}]},\"id\":\"4620\",\"type\":\"LegendItem\"},{\"attributes\":{\"children\":[{\"id\":\"4926\"}],\"css_classes\":[\"panel-widget-box\"],\"margin\":[5,5,5,5],\"name\":\"WidgetBox06079\"},\"id\":\"4925\",\"type\":\"Column\"},{\"attributes\":{\"line_color\":\"#fc4f30\",\"line_width\":2,\"x\":{\"field\":\"year\"},\"y\":{\"field\":\"value\"}},\"id\":\"4603\",\"type\":\"Line\"},{\"attributes\":{},\"id\":\"4836\",\"type\":\"UnionRenderers\"},{\"attributes\":{\"end\":1000,\"reset_end\":1000,\"reset_start\":600,\"start\":141.1976609302527,\"tags\":[[[\"sale_price_sqr_foot\",\"sale_price_sqr_foot\",null]]]},\"id\":\"4783\",\"type\":\"Range1d\"},{\"attributes\":{\"line_color\":\"#30a2da\",\"line_width\":2,\"x\":{\"field\":\"year\"},\"y\":{\"field\":\"value\"}},\"id\":\"4582\",\"type\":\"Line\"},{\"attributes\":{\"bottom_units\":\"screen\",\"fill_alpha\":0.5,\"fill_color\":\"lightgrey\",\"left_units\":\"screen\",\"level\":\"overlay\",\"line_alpha\":1.0,\"line_color\":\"black\",\"line_dash\":[4,4],\"line_width\":2,\"right_units\":\"screen\",\"syncable\":false,\"top_units\":\"screen\"},\"id\":\"4875\",\"type\":\"BoxAnnotation\"},{\"attributes\":{},\"id\":\"4601\",\"type\":\"Selection\"},{\"attributes\":{\"children\":[{\"id\":\"4853\"},{\"id\":\"4924\"}],\"margin\":[0,0,0,0],\"name\":\"Row06078\"},\"id\":\"4849\",\"type\":\"Row\"},{\"attributes\":{\"data\":{\"sale_price_sqr_foot\":{\"__ndarray__\":\"DUc7WO0yckCafszcbwhxQIKRs5ot42ZAKDog0LQ8eEAVMinKGEd+QI4V5FDt0IJAVCHcmLVPdUA=\",\"dtype\":\"float64\",\"order\":\"little\",\"shape\":[7]},\"year\":[2010,2011,2012,2013,2014,2015,2016]},\"selected\":{\"id\":\"4884\"},\"selection_policy\":{\"id\":\"4911\"}},\"id\":\"4883\",\"type\":\"ColumnDataSource\"},{\"attributes\":{},\"id\":\"4895\",\"type\":\"BasicTickFormatter\"},{\"attributes\":{},\"id\":\"4580\",\"type\":\"Selection\"},{\"attributes\":{\"fill_alpha\":{\"value\":0.1},\"fill_color\":{\"value\":\"#30a2da\"},\"line_alpha\":{\"value\":0.1},\"top\":{\"field\":\"sale_price_sqr_foot\"},\"width\":{\"value\":0.8},\"x\":{\"field\":\"Neighborhood\"}},\"id\":\"4818\",\"type\":\"VBar\"},{\"attributes\":{\"line_alpha\":0.2,\"line_color\":\"#30a2da\",\"line_width\":2,\"x\":{\"field\":\"year\"},\"y\":{\"field\":\"value\"}},\"id\":\"4584\",\"type\":\"Line\"},{\"attributes\":{\"css_classes\":[\"markdown\"],\"margin\":[5,5,5,5],\"name\":\"Markdown04003\",\"text\":\"&lt;h2&gt;Average Gross Rent&lt;/h2&gt;\"},\"id\":\"4534\",\"type\":\"panel.models.markup.HTML\"},{\"attributes\":{\"margin\":[5,5,5,5],\"name\":\"VSpacer06084\",\"sizing_mode\":\"stretch_height\"},\"id\":\"4927\",\"type\":\"Spacer\"},{\"attributes\":{\"source\":{\"id\":\"4600\"}},\"id\":\"4607\",\"type\":\"CDSView\"},{\"attributes\":{\"line_alpha\":0.2,\"line_color\":\"#fc4f30\",\"line_width\":2,\"x\":{\"field\":\"year\"},\"y\":{\"field\":\"value\"}},\"id\":\"4605\",\"type\":\"Line\"},{\"attributes\":{},\"id\":\"4617\",\"type\":\"UnionRenderers\"},{\"attributes\":{\"data\":{\"Neighborhood\":[\"South Beach\",\"Potrero Hill\",\"Cow Hollow\",\"Presidio Heights\",\"Telegraph Hill\",\"Westwood Park\",\"Pacific Heights\",\"Miraloma Park\",\"Merced Heights\",\"Union Square District\"],\"sale_price_sqr_foot\":{\"__ndarray__\":\"ya3y7v5QhECazArhG7CEQAtXblu2z4RAy835O80ahUC7CoV4DSSFQGvQRFqzeIVAFZsVUHKMhUBcf96afF6IQH0iuS/CpohAJRAUMfI/jEA=\",\"dtype\":\"float64\",\"order\":\"little\",\"shape\":[10]}},\"selected\":{\"id\":\"4815\"},\"selection_policy\":{\"id\":\"4836\"}},\"id\":\"4814\",\"type\":\"ColumnDataSource\"},{\"attributes\":{},\"id\":\"4575\",\"type\":\"AllLabels\"},{\"attributes\":{},\"id\":\"4897\",\"type\":\"AllLabels\"},{\"attributes\":{},\"id\":\"4815\",\"type\":\"Selection\"},{\"attributes\":{\"end\":422647.8900683069,\"reset_end\":422647.8900683069,\"reset_start\":-38222.790751375396,\"start\":-38222.790751375396,\"tags\":[[[\"value\",\"value\",null]]]},\"id\":\"4539\",\"type\":\"Range1d\"},{\"attributes\":{\"fill_color\":{\"value\":\"#30a2da\"},\"top\":{\"field\":\"sale_price_sqr_foot\"},\"width\":{\"value\":0.8},\"x\":{\"field\":\"Neighborhood\"}},\"id\":\"4817\",\"type\":\"VBar\"},{\"attributes\":{},\"id\":\"4623\",\"type\":\"Selection\"},{\"attributes\":{\"line_color\":\"#e5ae38\",\"line_width\":2,\"x\":{\"field\":\"year\"},\"y\":{\"field\":\"value\"}},\"id\":\"4625\",\"type\":\"Line\"},{\"attributes\":{\"line_alpha\":0.1,\"line_color\":\"#e5ae38\",\"line_width\":2,\"x\":{\"field\":\"year\"},\"y\":{\"field\":\"value\"}},\"id\":\"4626\",\"type\":\"Line\"},{\"attributes\":{\"below\":[{\"id\":\"4552\"}],\"center\":[{\"id\":\"4555\"},{\"id\":\"4559\"}],\"height\":300,\"left\":[{\"id\":\"4556\"}],\"margin\":[5,5,5,5],\"min_border_bottom\":10,\"min_border_left\":10,\"min_border_right\":10,\"min_border_top\":10,\"renderers\":[{\"id\":\"4585\"},{\"id\":\"4606\"},{\"id\":\"4628\"}],\"right\":[{\"id\":\"4597\"}],\"sizing_mode\":\"fixed\",\"title\":{\"id\":\"4544\"},\"toolbar\":{\"id\":\"4566\"},\"width\":700,\"x_range\":{\"id\":\"4538\"},\"x_scale\":{\"id\":\"4548\"},\"y_range\":{\"id\":\"4539\"},\"y_scale\":{\"id\":\"4550\"}},\"id\":\"4543\",\"subtype\":\"Figure\",\"type\":\"Plot\"},{\"attributes\":{\"line_alpha\":0.1,\"line_color\":\"#30a2da\",\"line_width\":2,\"x\":{\"field\":\"year\"},\"y\":{\"field\":\"value\"}},\"id\":\"4583\",\"type\":\"Line\"},{\"attributes\":{},\"id\":\"4792\",\"type\":\"LinearScale\"},{\"attributes\":{\"line_alpha\":0.1,\"line_color\":\"#fc4f30\",\"line_width\":2,\"x\":{\"field\":\"year\"},\"y\":{\"field\":\"value\"}},\"id\":\"4604\",\"type\":\"Line\"},{\"attributes\":{\"axis_label\":\"Neighborhood\",\"formatter\":{\"id\":\"4823\"},\"major_label_orientation\":0.7853981633974483,\"major_label_policy\":{\"id\":\"4825\"},\"ticker\":{\"id\":\"4795\"}},\"id\":\"4794\",\"type\":\"CategoricalAxis\"},{\"attributes\":{\"data_source\":{\"id\":\"4622\"},\"glyph\":{\"id\":\"4625\"},\"hover_glyph\":null,\"muted_glyph\":{\"id\":\"4627\"},\"nonselection_glyph\":{\"id\":\"4626\"},\"selection_glyph\":{\"id\":\"4645\"},\"view\":{\"id\":\"4629\"}},\"id\":\"4628\",\"type\":\"GlyphRenderer\"},{\"attributes\":{\"text\":\"Top 10 Most Expensive Neighborhoods\",\"text_color\":\"black\",\"text_font_size\":\"12pt\"},\"id\":\"4786\",\"type\":\"Title\"},{\"attributes\":{},\"id\":\"4790\",\"type\":\"CategoricalScale\"},{\"attributes\":{\"margin\":[5,5,5,5],\"name\":\"Str04000\",\"text\":\"&lt;pre&gt;AxesSubplot(0.125,0.125;0.775x0.755)&lt;/pre&gt;\"},\"id\":\"4532\",\"type\":\"panel.models.markup.HTML\"}],\"root_ids\":[\"4529\",\"5030\"]},\"title\":\"Bokeh Application\",\"version\":\"2.3.2\"}};\n",
       "    var render_items = [{\"docid\":\"5675bde7-8424-4f5b-a643-2c49270a0372\",\"root_ids\":[\"4529\"],\"roots\":{\"4529\":\"d092d20f-782b-47f4-aac8-a267316f85a3\"}}];\n",
       "    root.Bokeh.embed.embed_items_notebook(docs_json, render_items);\n",
       "  }\n",
       "  if (root.Bokeh !== undefined && root.Bokeh.Panel !== undefined && ( root['Plotly'] !== undefined)) {\n",
       "    embed_document(root);\n",
       "  } else {\n",
       "    var attempts = 0;\n",
       "    var timer = setInterval(function(root) {\n",
       "      if (root.Bokeh !== undefined && root.Bokeh.Panel !== undefined && (root['Plotly'] !== undefined)) {\n",
       "        clearInterval(timer);\n",
       "        embed_document(root);\n",
       "      } else if (document.readyState == \"complete\") {\n",
       "        attempts++;\n",
       "        if (attempts > 200) {\n",
       "          clearInterval(timer);\n",
       "          console.log(\"Bokeh: ERROR: Unable to run BokehJS code because BokehJS library is missing\");\n",
       "        }\n",
       "      }\n",
       "    }, 25, root)\n",
       "  }\n",
       "})(window);</script>"
      ],
      "text/plain": [
       "Row\n",
       "    [0] Column\n",
       "        [0] Markdown(str)\n",
       "        [1] Str(AxesSubplot)\n",
       "    [1] Column\n",
       "        [0] Markdown(str)\n",
       "        [1] Str(AxesSubplot)\n",
       "    [2] Str(AxesSubplot)\n",
       "    [3] Row\n",
       "        [0] HoloViews(DynamicMap)\n",
       "        [1] Column\n",
       "            [0] WidgetBox\n",
       "                [0] Select(margin=(20, 20, 20, 20), name='Neighborhood', options=['Alamo Square', ...], value='Alamo Square', width=250)\n",
       "            [1] VSpacer()\n",
       "    [4] HoloViews(Bars)\n",
       "    [5] Row\n",
       "        [0] HoloViews(DynamicMap)\n",
       "        [1] Column\n",
       "            [0] WidgetBox\n",
       "                [0] Select(margin=(20, 20, 20, 20), name='Neighborhood', options=['Alamo Square', ...], value='Alamo Square', width=250)\n",
       "            [1] VSpacer()"
      ]
     },
     "execution_count": 76,
     "metadata": {
      "application/vnd.holoviews_exec.v0+json": {
       "id": "4529"
      }
     },
     "output_type": "execute_result"
    }
   ],
   "source": [
    "# Serve the# dashboard\n",
    "dashboard.servable()"
   ]
  },
  {
   "cell_type": "markdown",
   "metadata": {},
   "source": [
    "# Debugging\n",
    "\n",
    "Note: Some of the Plotly express plots may not render in the notebook through the panel functions.\n",
    "\n",
    "However, you can test each plot by uncommenting the following code"
   ]
  },
  {
   "cell_type": "code",
   "execution_count": null,
   "metadata": {},
   "outputs": [],
   "source": [
    "# housing_units_per_year()"
   ]
  },
  {
   "cell_type": "code",
   "execution_count": null,
   "metadata": {},
   "outputs": [],
   "source": [
    "# average_gross_rent()"
   ]
  },
  {
   "cell_type": "code",
   "execution_count": null,
   "metadata": {},
   "outputs": [],
   "source": [
    "# average_sales_price()"
   ]
  },
  {
   "cell_type": "code",
   "execution_count": null,
   "metadata": {},
   "outputs": [],
   "source": [
    "# average_price_by_neighborhood()"
   ]
  },
  {
   "cell_type": "code",
   "execution_count": null,
   "metadata": {},
   "outputs": [],
   "source": [
    "# top_most_expensive_neighborhoods()"
   ]
  },
  {
   "cell_type": "code",
   "execution_count": null,
   "metadata": {},
   "outputs": [],
   "source": [
    "# most_expensive_neighborhoods_rent_sales()"
   ]
  },
  {
   "cell_type": "code",
   "execution_count": null,
   "metadata": {},
   "outputs": [],
   "source": [
    "# neighborhood_map().show()"
   ]
  },
  {
   "cell_type": "code",
   "execution_count": null,
   "metadata": {},
   "outputs": [],
   "source": [
    "# parallel_categories()"
   ]
  },
  {
   "cell_type": "code",
   "execution_count": null,
   "metadata": {},
   "outputs": [],
   "source": [
    "# parallel_coordinates()"
   ]
  },
  {
   "cell_type": "code",
   "execution_count": null,
   "metadata": {},
   "outputs": [],
   "source": [
    "# sunburst()"
   ]
  },
  {
   "cell_type": "code",
   "execution_count": null,
   "metadata": {},
   "outputs": [],
   "source": []
  }
 ],
 "metadata": {
  "file_extension": ".py",
  "kernelspec": {
   "display_name": "Python [conda env:pyvizenv] *",
   "language": "python",
   "name": "conda-env-pyvizenv-py"
  },
  "language_info": {
   "codemirror_mode": {
    "name": "ipython",
    "version": 3
   },
   "file_extension": ".py",
   "mimetype": "text/x-python",
   "name": "python",
   "nbconvert_exporter": "python",
   "pygments_lexer": "ipython3",
   "version": "3.7.10"
  },
  "mimetype": "text/x-python",
  "name": "python",
  "npconvert_exporter": "python",
  "pygments_lexer": "ipython3",
  "version": 3
 },
 "nbformat": 4,
 "nbformat_minor": 4
}
